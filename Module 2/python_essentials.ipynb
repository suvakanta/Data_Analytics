{
 "cells": [
  {
   "cell_type": "code",
   "execution_count": 38,
   "metadata": {},
   "outputs": [
    {
     "name": "stdout",
     "output_type": "stream",
     "text": [
      "Hello World!\n"
     ]
    }
   ],
   "source": [
    "# This is a single-line/inline comment.\n",
    "\"\"\"\n",
    "    This is a \n",
    "    multi-line\n",
    "    comment.\n",
    "    It's enclosed in triple quotes.\n",
    "\"\"\"\n",
    "\n",
    "print(\"Hello World!\")"
   ]
  },
  {
   "cell_type": "markdown",
   "metadata": {},
   "source": [
    "### Python Variables\n",
    "\n",
    "**Creating Variables**\n",
    "\n",
    "Creating a variable in Python is simple. You assign a value to a variable name and start using it. \n",
    "Python figures out the variable type automatically.\n",
    "\n",
    "**Variable Naming Rules**\n",
    "- Variable names can contain letters (both uppercase and lowercase), digits, and underscores.\n",
    "- They must begin with a letter or an underscore (_), but not with a digit.\n",
    "- Case sensitive (myVar and myvar are different variables)\n",
    "- Python keywords cannot be used as variable names."
   ]
  },
  {
   "cell_type": "code",
   "execution_count": 39,
   "metadata": {},
   "outputs": [
    {
     "name": "stdout",
     "output_type": "stream",
     "text": [
      "Number: 10\n"
     ]
    }
   ],
   "source": [
    "# Variable\n",
    "number = 10\n",
    "print(\"Number:\",number)"
   ]
  },
  {
   "cell_type": "code",
   "execution_count": 40,
   "metadata": {},
   "outputs": [
    {
     "name": "stdout",
     "output_type": "stream",
     "text": [
      "My number: 13\n"
     ]
    }
   ],
   "source": [
    "_my_number =13\n",
    "print (\"My number:\", _my_number)"
   ]
  },
  {
   "cell_type": "code",
   "execution_count": 41,
   "metadata": {},
   "outputs": [
    {
     "name": "stdout",
     "output_type": "stream",
     "text": [
      "Number: 10\n",
      "Number: 40\n"
     ]
    }
   ],
   "source": [
    "print(\"Number:\",number)\n",
    "number=40\n",
    "print(\"Number:\",number)"
   ]
  },
  {
   "cell_type": "code",
   "execution_count": 42,
   "metadata": {},
   "outputs": [
    {
     "name": "stdout",
     "output_type": "stream",
     "text": [
      "num1: 10\n",
      "Num1: 20\n"
     ]
    }
   ],
   "source": [
    "num1 =10\n",
    "Num1 =20\n",
    "print(\"num1:\",num1)\n",
    "print(\"Num1:\",Num1)"
   ]
  },
  {
   "cell_type": "code",
   "execution_count": 43,
   "metadata": {},
   "outputs": [],
   "source": [
    "# Things we want to avoid\n",
    "# print =\"print\"\n",
    "# x -2 =10\n",
    "# True =5\n",
    "# 2=5\n",
    "# print (print)"
   ]
  },
  {
   "cell_type": "markdown",
   "metadata": {},
   "source": [
    "## Data Types\n",
    "\n",
    "#### Numeric Types\n",
    "\n",
    "- **int** - Integer values, such as `30`, `-30`, etc.\n",
    "- **float**: Floating-point values, representing decimal numbers, such as `3.14`, `-0.01`, `2.0`, etc."
   ]
  },
  {
   "cell_type": "code",
   "execution_count": 44,
   "metadata": {},
   "outputs": [
    {
     "name": "stdout",
     "output_type": "stream",
     "text": [
      "30\n",
      "-30\n",
      "Type of positive_integer: <class 'int'>\n"
     ]
    }
   ],
   "source": [
    "# int \n",
    "positive_integer = 30\n",
    "negative_integer = -30\n",
    "print(positive_integer)\n",
    "print(negative_integer)\n",
    "print(\"Type of positive_integer:\", type(positive_integer))"
   ]
  },
  {
   "cell_type": "code",
   "execution_count": 45,
   "metadata": {},
   "outputs": [
    {
     "name": "stdout",
     "output_type": "stream",
     "text": [
      "3.14 -20.55\n",
      "Type of positiv_float: <class 'float'>\n"
     ]
    }
   ],
   "source": [
    "#float\n",
    "positive_float = 3.14\n",
    "negative_float = -20.55\n",
    "print(positive_float,negative_float)\n",
    "print(\"Type of positiv_float:\",type(positive_float))"
   ]
  },
  {
   "cell_type": "markdown",
   "metadata": {},
   "source": [
    "#### Sequence Types\n",
    "\n",
    "1. **String**: String values, representing text or characters, such as 'hello', \"world\", '123', etc.\n",
    "2. **Lists**: Lists are used when you need a collection of elements that can be modified or reordered. \n",
    "They are suitable for sequences of items of the same type or different types.\n",
    "3. **Tuple**: Tuples are used when you want to store a fixed collection of elements that should not be changed. \n",
    "They are often used for immutable sequences, such as coordinates, database records, or function return values.\n",
    "4. **Dictionaries**:  Dictionaries are used when you need to associate keys with values for efficient lookup. \n",
    "They are suitable for representing data with key-value relationships, such as mappings, \n",
    "configurations, or database records indexed by unique keys."
   ]
  },
  {
   "cell_type": "code",
   "execution_count": 46,
   "metadata": {},
   "outputs": [
    {
     "name": "stdout",
     "output_type": "stream",
     "text": [
      "Hello World! hello and welcome to world of Python! kaushiki12\n",
      "H\n",
      "!\n",
      "H !\n"
     ]
    }
   ],
   "source": [
    "string1 =\"Hello World!\"\n",
    "string2 =\"hello and welcome to world of Python!\"\n",
    "username =\"kaushiki12\"\n",
    "print(string1,string2,username)\n",
    "\n",
    "# String Indexing\n",
    "print(string1[0]) # First character in the string\n",
    "print(string1[-1]) # Last character\n",
    "print(string1[0], string1[-1])\n",
    "\n"
   ]
  },
  {
   "cell_type": "code",
   "execution_count": 47,
   "metadata": {},
   "outputs": [
    {
     "name": "stdout",
     "output_type": "stream",
     "text": [
      "[1, 2, 3, 4, 5]\n",
      "['Suvakanta', 'Mike', 'Naga']\n",
      "[21, 'Xavier', -3.21]\n",
      "First element in the lists of numbers: 1\n",
      "Name: Mike\n",
      "Numbers and Names: [22, 'Xavier', -3.21]\n",
      "r\n"
     ]
    }
   ],
   "source": [
    "#Lists\n",
    "numbers = [1,2,3,4,5]\n",
    "names =[\"Suvakanta\",\"Mike\",\"Naga\"]\n",
    "numbers_and_names =[21,\"Xavier\",-3.21]\n",
    "print(numbers)\n",
    "print(names)\n",
    "print(numbers_and_names)\n",
    "\n",
    "# List Indexing\n",
    "print(\"First element in the lists of numbers:\",numbers[0])\n",
    "print(\"Name:\", names[1])\n",
    "numbers_and_names[0] =22 # Update the value using List Indexing\n",
    "print(\"Numbers and Names:\",numbers_and_names)\n",
    "print(numbers_and_names[1][-1])"
   ]
  },
  {
   "cell_type": "code",
   "execution_count": 48,
   "metadata": {},
   "outputs": [
    {
     "name": "stdout",
     "output_type": "stream",
     "text": [
      "Tuples: (2, 'Wai', 3.14)\n"
     ]
    }
   ],
   "source": [
    "#Tuples\n",
    "tuple_values = (2,\"Wai\",3.14)\n",
    "print(\"Tuples:\",tuple_values)"
   ]
  },
  {
   "cell_type": "code",
   "execution_count": 49,
   "metadata": {},
   "outputs": [
    {
     "ename": "TypeError",
     "evalue": "'tuple' object does not support item assignment",
     "output_type": "error",
     "traceback": [
      "\u001b[0;31m---------------------------------------------------------------------------\u001b[0m",
      "\u001b[0;31mTypeError\u001b[0m                                 Traceback (most recent call last)",
      "Cell \u001b[0;32mIn[49], line 2\u001b[0m\n\u001b[1;32m      1\u001b[0m \u001b[39m# Trying to update tuple values (This will not work as tuple values can't be changed)\u001b[39;00m\n\u001b[0;32m----> 2\u001b[0m tuple_values[\u001b[39m1\u001b[39;49m] \u001b[39m=\u001b[39m\u001b[39m\"\u001b[39m\u001b[39mErica\u001b[39m\u001b[39m\"\u001b[39m\n",
      "\u001b[0;31mTypeError\u001b[0m: 'tuple' object does not support item assignment"
     ]
    }
   ],
   "source": [
    "# Trying to update tuple values (This will not work as tuple values can't be changed)\n",
    "tuple_values[1] =\"Erica\""
   ]
  },
  {
   "cell_type": "code",
   "execution_count": null,
   "metadata": {},
   "outputs": [
    {
     "ename": "",
     "evalue": "",
     "output_type": "error",
     "traceback": [
      "\u001b[1;31mRunning cells with 'Python 3.12.3 64-bit' requires ipykernel package.\n",
      "\u001b[1;31mRun the following command to install 'ipykernel' into the Python environment. \n",
      "\u001b[1;31mCommand: '/opt/homebrew/bin/python3 -m pip install ipykernel -U --user --force-reinstall'"
     ]
    }
   ],
   "source": [
    "nested_list_and_tuples =[20,(\"Nimi\",3.14)]\n",
    "print(nested_list_and_tuples)\n",
    "\n",
    "# Item Assignment for List\n",
    "nested_list_and_tuples[0] =30\n",
    "print(nested_list_and_tuples)\n",
    "\n",
    "# Item Assignment for Tuples?\n",
    "#nested_list_and_tuples[1][1] =10 # This will not work\n",
    "\n",
    "nested_tuples_and_list =(30,[\"Ferds\",30.32])\n",
    "print(nested_tuples_and_list)\n",
    "\n",
    "# Item Assignment for List inside of a tuple?\n",
    "nested_tuples_and_list[1][1] =2\n",
    "print(nested_tuples_and_list)\n",
    "#nested_tuples_and_list[0]=40 # This will not work\n",
    "\n"
   ]
  },
  {
   "cell_type": "code",
   "execution_count": null,
   "metadata": {},
   "outputs": [
    {
     "ename": "",
     "evalue": "",
     "output_type": "error",
     "traceback": [
      "\u001b[1;31mRunning cells with 'Python 3.12.3 64-bit' requires ipykernel package.\n",
      "\u001b[1;31mRun the following command to install 'ipykernel' into the Python environment. \n",
      "\u001b[1;31mCommand: '/opt/homebrew/bin/python3 -m pip install ipykernel -U --user --force-reinstall'"
     ]
    }
   ],
   "source": [
    "# Dictionaries\n",
    "\n",
    "person = {\n",
    "    'name': 'Oksana',\n",
    "    'name': 'suvakanta',\n",
    "    'age' : 21\n",
    "}\n",
    "person1 = {\n",
    "    'name': 'Wai',\n",
    "    'age' :31\n",
    "}\n",
    "print(person['name'])\n",
    "print(\"Tyof of Person:\",type(person))"
   ]
  },
  {
   "cell_type": "markdown",
   "metadata": {},
   "source": [
    "### Boolean Type:\n",
    "\n",
    "**bool**: Boolean values representing True or False."
   ]
  },
  {
   "cell_type": "code",
   "execution_count": null,
   "metadata": {},
   "outputs": [
    {
     "ename": "",
     "evalue": "",
     "output_type": "error",
     "traceback": [
      "\u001b[1;31mRunning cells with 'Python 3.12.3 64-bit' requires ipykernel package.\n",
      "\u001b[1;31mRun the following command to install 'ipykernel' into the Python environment. \n",
      "\u001b[1;31mCommand: '/opt/homebrew/bin/python3 -m pip install ipykernel -U --user --force-reinstall'"
     ]
    }
   ],
   "source": [
    "is_valid = True\n",
    "is_admin = False\n",
    "print(is_valid)\n",
    "print(is_admin)\n",
    "print(\"Type of is_valid:\",type(is_valid))"
   ]
  },
  {
   "cell_type": "markdown",
   "metadata": {},
   "source": [
    "**Dynamic Typing**\n",
    "\n",
    "Variables can change type after they have been set. This is known as dynamic typing."
   ]
  },
  {
   "cell_type": "code",
   "execution_count": null,
   "metadata": {},
   "outputs": [
    {
     "ename": "",
     "evalue": "",
     "output_type": "error",
     "traceback": [
      "\u001b[1;31mRunning cells with 'Python 3.12.3 64-bit' requires ipykernel package.\n",
      "\u001b[1;31mRun the following command to install 'ipykernel' into the Python environment. \n",
      "\u001b[1;31mCommand: '/opt/homebrew/bin/python3 -m pip install ipykernel -U --user --force-reinstall'"
     ]
    }
   ],
   "source": [
    "my_variable = 10\n",
    "print(type(my_variable))\n",
    "\n",
    "my_variable = \"test String!\"\n",
    "print(type(my_variable))\n",
    "\n",
    "my_variable = 3.14\n",
    "print(type(my_variable))\n",
    "\n",
    "my_variable = [1,2,3,4]\n",
    "print(type(my_variable))"
   ]
  },
  {
   "cell_type": "code",
   "execution_count": null,
   "metadata": {},
   "outputs": [
    {
     "ename": "",
     "evalue": "",
     "output_type": "error",
     "traceback": [
      "\u001b[1;31mRunning cells with 'Python 3.12.3 64-bit' requires ipykernel package.\n",
      "\u001b[1;31mRun the following command to install 'ipykernel' into the Python environment. \n",
      "\u001b[1;31mCommand: '/opt/homebrew/bin/python3 -m pip install ipykernel -U --user --force-reinstall'"
     ]
    }
   ],
   "source": [
    "print(numbers)\n",
    "numbers[2] = \"Three\"\n",
    "print(numbers)"
   ]
  },
  {
   "cell_type": "markdown",
   "metadata": {},
   "source": [
    "## Python Operators and Expressions\n",
    "### Arithmetic Operators"
   ]
  },
  {
   "cell_type": "code",
   "execution_count": null,
   "metadata": {},
   "outputs": [
    {
     "ename": "",
     "evalue": "",
     "output_type": "error",
     "traceback": [
      "\u001b[1;31mRunning cells with 'Python 3.12.3 64-bit' requires ipykernel package.\n",
      "\u001b[1;31mRun the following command to install 'ipykernel' into the Python environment. \n",
      "\u001b[1;31mCommand: '/opt/homebrew/bin/python3 -m pip install ipykernel -U --user --force-reinstall'"
     ]
    }
   ],
   "source": [
    "# Addition (+) - Sum\n",
    "print(\"Addition:\", 10+5)\n",
    "# Subtraction (-) - Difference\n",
    "print(\"Subtraction\", 10-5)\n",
    "# Multiplication (*) - Product\n",
    "print(\"Multiplication\", 10*5)\n",
    "# Division (/) - Quotient\n",
    "print(\"Division\", 10/5)\n",
    "\n",
    "#Modulus (%) - Reminder\n",
    "print(\"Modulus:\",23%7) # 3 r 2\n",
    "\n",
    "# Exponentiation (**)\n",
    "print(\"Exponentiation\", 10**5)"
   ]
  },
  {
   "cell_type": "code",
   "execution_count": null,
   "metadata": {},
   "outputs": [
    {
     "ename": "",
     "evalue": "",
     "output_type": "error",
     "traceback": [
      "\u001b[1;31mRunning cells with 'Python 3.12.3 64-bit' requires ipykernel package.\n",
      "\u001b[1;31mRun the following command to install 'ipykernel' into the Python environment. \n",
      "\u001b[1;31mCommand: '/opt/homebrew/bin/python3 -m pip install ipykernel -U --user --force-reinstall'"
     ]
    }
   ],
   "source": [
    "# Percentage\n",
    "percentage = 73 / 100 * 100\n",
    "print(percentage)"
   ]
  },
  {
   "cell_type": "code",
   "execution_count": null,
   "metadata": {},
   "outputs": [
    {
     "ename": "",
     "evalue": "",
     "output_type": "error",
     "traceback": [
      "\u001b[1;31mRunning cells with 'Python 3.12.3 64-bit' requires ipykernel package.\n",
      "\u001b[1;31mRun the following command to install 'ipykernel' into the Python environment. \n",
      "\u001b[1;31mCommand: '/opt/homebrew/bin/python3 -m pip install ipykernel -U --user --force-reinstall'"
     ]
    }
   ],
   "source": [
    "# PEMDAS /BODMAS\n",
    "print(10 +8 /4 * 2 -5)"
   ]
  },
  {
   "cell_type": "markdown",
   "metadata": {},
   "source": [
    "### Comparision Operators\n"
   ]
  },
  {
   "cell_type": "code",
   "execution_count": null,
   "metadata": {},
   "outputs": [
    {
     "ename": "",
     "evalue": "",
     "output_type": "error",
     "traceback": [
      "\u001b[1;31mRunning cells with 'Python 3.12.3 64-bit' requires ipykernel package.\n",
      "\u001b[1;31mRun the following command to install 'ipykernel' into the Python environment. \n",
      "\u001b[1;31mCommand: '/opt/homebrew/bin/python3 -m pip install ipykernel -U --user --force-reinstall'"
     ]
    }
   ],
   "source": [
    "num1 =10\n",
    "num2 = 5\n",
    "# Equal to\n",
    "result = num1 ==num2\n",
    "print(result) # False\n",
    "# Not Equal to\n",
    "result = num1 !=num2\n",
    "print(result) # True\n",
    "# Greater than\n",
    "result = num1 >num2\n",
    "print(result) #True\n",
    "# Less than\n",
    "result = num1 <num2\n",
    "print(result) # False\n",
    "# Greater than or equal to\n",
    "result = num1 >=num2\n",
    "print(result) # True\n",
    "# less than or equal to\n",
    "result = num1 <=num2\n",
    "print(result) # False"
   ]
  },
  {
   "cell_type": "markdown",
   "metadata": {},
   "source": [
    "### Logical Operators"
   ]
  },
  {
   "cell_type": "code",
   "execution_count": null,
   "metadata": {},
   "outputs": [
    {
     "ename": "",
     "evalue": "",
     "output_type": "error",
     "traceback": [
      "\u001b[1;31mRunning cells with 'Python 3.12.3 64-bit' requires ipykernel package.\n",
      "\u001b[1;31mRun the following command to install 'ipykernel' into the Python environment. \n",
      "\u001b[1;31mCommand: '/opt/homebrew/bin/python3 -m pip install ipykernel -U --user --force-reinstall'"
     ]
    }
   ],
   "source": [
    "num3 =10\n",
    "num4 =5\n",
    "# AND ( both are True == True)\n",
    "result = (num3 >= 5) and (num4 <10) and (num3> num4)\n",
    "print(\"AND:\",result)\n",
    "\n",
    "\n",
    "# OR (both are False == False)\n",
    "result = (num3 >= 5) or (num4 <10) and (num3> num4)\n",
    "print(\"OR:\",result)\n",
    "\n",
    "# NOT (Opposite boolean value)\n",
    "result =not(result)\n",
    "print(\"NOT:\",result)\n",
    "\n"
   ]
  },
  {
   "cell_type": "markdown",
   "metadata": {},
   "source": [
    "### Assignment Operators"
   ]
  },
  {
   "cell_type": "code",
   "execution_count": null,
   "metadata": {},
   "outputs": [
    {
     "ename": "",
     "evalue": "",
     "output_type": "error",
     "traceback": [
      "\u001b[1;31mRunning cells with 'Python 3.12.3 64-bit' requires ipykernel package.\n",
      "\u001b[1;31mRun the following command to install 'ipykernel' into the Python environment. \n",
      "\u001b[1;31mCommand: '/opt/homebrew/bin/python3 -m pip install ipykernel -U --user --force-reinstall'"
     ]
    }
   ],
   "source": [
    "# Single equal sign\n",
    "num5 =10\n",
    "\n",
    "# Addition Assignment\n",
    "num5 += 20 # num5 = num5 +20\n",
    "print(num5) # num5 =30\n",
    "# Subtraction Assignment\n",
    "num5 -= 20 # num5 = num5 -20\n",
    "print(num5) # num5 =10\n",
    "\n",
    "# Multiplication Assignment\n",
    "num5 *= 20 # num5 = num5 *20\n",
    "print(num5) # num5 =200\n",
    "\n",
    "# Division Assignment\n",
    "num5 /= 20 # num5 = num5 /20\n",
    "print(num5) # num5 =10"
   ]
  },
  {
   "cell_type": "markdown",
   "metadata": {},
   "source": [
    "## Type Coercion / Type Conversion"
   ]
  },
  {
   "cell_type": "code",
   "execution_count": null,
   "metadata": {},
   "outputs": [
    {
     "ename": "",
     "evalue": "",
     "output_type": "error",
     "traceback": [
      "\u001b[1;31mRunning cells with 'Python 3.12.3 64-bit' requires ipykernel package.\n",
      "\u001b[1;31mRun the following command to install 'ipykernel' into the Python environment. \n",
      "\u001b[1;31mCommand: '/opt/homebrew/bin/python3 -m pip install ipykernel -U --user --force-reinstall'"
     ]
    }
   ],
   "source": [
    "num6 = 10\n",
    "print(\"Type of num6\",type(num6)) # int\n",
    "\n",
    "num6 =(float(num6))\n",
    "print(\"Type of num6:\",type(num6)) #float\n",
    "\n",
    "num6 = str(num6)\n",
    "print(\"Type of num6:\",type(num6)) #str\n",
    "print(num6)\n",
    "\n",
    "# You cannot convert a string with decimal to integer. First, we need to concert it to float and then to integer\n",
    "num6 = float(num6)\n",
    "print(\"Type of num6:\",type(num6)) #float\n",
    "\n",
    "num6 =int(num6)\n",
    "print(\"Type of num6:\",type(num6)) # int"
   ]
  },
  {
   "cell_type": "markdown",
   "metadata": {},
   "source": [
    "### String Methods"
   ]
  },
  {
   "cell_type": "code",
   "execution_count": null,
   "metadata": {},
   "outputs": [
    {
     "ename": "",
     "evalue": "",
     "output_type": "error",
     "traceback": [
      "\u001b[1;31mRunning cells with 'Python 3.12.3 64-bit' requires ipykernel package.\n",
      "\u001b[1;31mRun the following command to install 'ipykernel' into the Python environment. \n",
      "\u001b[1;31mCommand: '/opt/homebrew/bin/python3 -m pip install ipykernel -U --user --force-reinstall'"
     ]
    }
   ],
   "source": [
    "my_string =\"Hello Python!\"\n",
    "another_string = \"CodeCamp\"\n",
    "step  = another_string[0:7:2]\n",
    "print(step)\n",
    "print(my_string)\n",
    "\n",
    "first_letter = my_string[0]\n",
    "print(\"First Letter:\", first_letter)\n",
    "\n",
    "last_letter = my_string[-1]\n",
    "print(\"Last Letter:\", last_letter)\n",
    "\n",
    "# starting_index : ending_index: step\n",
    "slice_string = my_string[0:5]\n",
    "print(\"Sliced String:\", slice_string)\n",
    "\n",
    "slice_string = my_string[0:-1]\n",
    "print(\"Python String:\", slice_string)\n",
    "\n",
    "\n",
    "slice_string = my_string[0:5:2]\n",
    "print(\"Sliced String:\", slice_string)\n",
    "\n",
    "slice_string = my_string[1:9:2]\n",
    "print(\"Sliced String:\", slice_string)\n",
    "\n",
    "reverse = my_string[::-1]\n",
    "print(\"Sliced String:\", reverse)"
   ]
  },
  {
   "cell_type": "code",
   "execution_count": null,
   "metadata": {},
   "outputs": [
    {
     "ename": "",
     "evalue": "",
     "output_type": "error",
     "traceback": [
      "\u001b[1;31mRunning cells with 'Python 3.12.3 64-bit' requires ipykernel package.\n",
      "\u001b[1;31mRun the following command to install 'ipykernel' into the Python environment. \n",
      "\u001b[1;31mCommand: '/opt/homebrew/bin/python3 -m pip install ipykernel -U --user --force-reinstall'"
     ]
    }
   ],
   "source": [
    "sample_string =\"data analytics course\"\n",
    "\n",
    "# capatalize \n",
    "print(sample_string.capitalize())\n",
    "\n",
    "# title\n",
    "print(sample_string.title())\n",
    "\n",
    "# find a word\n",
    "print(sample_string.find(\"analytics\")) # if the word exist, then it will return the index\n",
    "print(sample_string.find(\"science\")) # if the word doesn't exist, then it will return -1\n",
    "print(sample_string.find(\"a\"))\n",
    "\n",
    "print(\"analytics\" in sample_string)\n",
    "print(\"science\" in sample_string)\n",
    "\n",
    "print(sample_string.replace(\"data\", \"information\"))\n",
    "print(sample_string.replace(\"data\", \"information\").title())\n",
    "\n",
    "#lower/upper\n",
    "print(sample_string.upper())\n",
    "print(sample_string.lower())\n",
    "\n",
    "\n"
   ]
  },
  {
   "cell_type": "markdown",
   "metadata": {},
   "source": [
    "### Concatenation, f-strings and .format()\n"
   ]
  },
  {
   "cell_type": "code",
   "execution_count": null,
   "metadata": {},
   "outputs": [
    {
     "ename": "",
     "evalue": "",
     "output_type": "error",
     "traceback": [
      "\u001b[1;31mRunning cells with 'Python 3.12.3 64-bit' requires ipykernel package.\n",
      "\u001b[1;31mRun the following command to install 'ipykernel' into the Python environment. \n",
      "\u001b[1;31mCommand: '/opt/homebrew/bin/python3 -m pip install ipykernel -U --user --force-reinstall'"
     ]
    }
   ],
   "source": [
    "# Concatenation\n",
    "first_name =\"Ariston\"\n",
    "last_name = \"Catipay\"\n",
    "full_name = first_name + last_name\n",
    "print(\"fullname:\", full_name)\n",
    "\n",
    "#f-strings\n",
    "job1 = \"Data\"\n",
    "job2 = \"Analyst\"\n",
    "\n",
    "print(f\"My job is {job1} {job2}.\")\n",
    "\n",
    "# .format()\n",
    "sql_str =\"\"\"\n",
    "SELECT * FROM table_name\n",
    "WHERE x IN {x}\n",
    "\"\"\"\n",
    "print(sql_str.format(x=first_name))"
   ]
  },
  {
   "cell_type": "markdown",
   "metadata": {},
   "source": [
    "### List Methods\n"
   ]
  },
  {
   "cell_type": "code",
   "execution_count": null,
   "metadata": {},
   "outputs": [
    {
     "ename": "",
     "evalue": "",
     "output_type": "error",
     "traceback": [
      "\u001b[1;31mRunning cells with 'Python 3.12.3 64-bit' requires ipykernel package.\n",
      "\u001b[1;31mRun the following command to install 'ipykernel' into the Python environment. \n",
      "\u001b[1;31mCommand: '/opt/homebrew/bin/python3 -m pip install ipykernel -U --user --force-reinstall'"
     ]
    }
   ],
   "source": [
    "# Creating a list\n",
    "programming_language =[\"Python\",\"JavaScript\",\"C++\",\"PHP\"]\n",
    "print(\"Given String:\",programming_language)\n",
    "\n",
    "# Adding/Appending an element at the end of the list\n",
    "programming_language.append(\"C#\")\n",
    "print(\"Appending:\",programming_language)\n",
    "\n",
    "# Insert an item at a specified index\n",
    "programming_language.insert(1,\"Java\")\n",
    "print(\"Insert:\",programming_language)\n",
    "\n",
    "# Delete an element at the end of the list\n",
    "programming_language.pop()\n",
    "print(\"Pop:\", programming_language)\n",
    "\n",
    "# Delete an item\n",
    "programming_language.remove(\"Python\")\n",
    "print(\"Remove Python:\", programming_language)\n",
    "\n",
    "# REmove an item based on its index\n",
    "del programming_language[2]\n",
    "print(\"Del:\", programming_language)"
   ]
  },
  {
   "cell_type": "code",
   "execution_count": null,
   "metadata": {},
   "outputs": [
    {
     "ename": "",
     "evalue": "",
     "output_type": "error",
     "traceback": [
      "\u001b[1;31mRunning cells with 'Python 3.12.3 64-bit' requires ipykernel package.\n",
      "\u001b[1;31mRun the following command to install 'ipykernel' into the Python environment. \n",
      "\u001b[1;31mCommand: '/opt/homebrew/bin/python3 -m pip install ipykernel -U --user --force-reinstall'"
     ]
    }
   ],
   "source": [
    "# List Slicing\n",
    "numbers_list =[1,2,3,4,5]\n",
    "\n",
    "# starting_index : ending_index( will not be included) : step\n",
    "print(numbers_list[2:])\n",
    "print(numbers_list[2::-1])\n",
    "print(numbers_list[:1:-1])"
   ]
  },
  {
   "cell_type": "code",
   "execution_count": null,
   "metadata": {},
   "outputs": [
    {
     "ename": "",
     "evalue": "",
     "output_type": "error",
     "traceback": [
      "\u001b[1;31mRunning cells with 'Python 3.12.3 64-bit' requires ipykernel package.\n",
      "\u001b[1;31mRun the following command to install 'ipykernel' into the Python environment. \n",
      "\u001b[1;31mCommand: '/opt/homebrew/bin/python3 -m pip install ipykernel -U --user --force-reinstall'"
     ]
    }
   ],
   "source": [
    "# list extending\n",
    "list_of_letters =[\"a\",\"b\",\"C\"]\n",
    "list_of_numbers =[1,2,3,4,5]\n",
    "\n",
    "print(list_of_letters+ list_of_numbers)\n",
    "\n",
    "# Extend the list with another list\n",
    "list_of_letters.extend(list_of_numbers)\n",
    "print(list_of_letters)\n"
   ]
  },
  {
   "cell_type": "code",
   "execution_count": null,
   "metadata": {},
   "outputs": [
    {
     "ename": "",
     "evalue": "",
     "output_type": "error",
     "traceback": [
      "\u001b[1;31mRunning cells with 'Python 3.12.3 64-bit' requires ipykernel package.\n",
      "\u001b[1;31mRun the following command to install 'ipykernel' into the Python environment. \n",
      "\u001b[1;31mCommand: '/opt/homebrew/bin/python3 -m pip install ipykernel -U --user --force-reinstall'"
     ]
    }
   ],
   "source": [
    "# Sorting\n",
    "list_numbers =[9,1,8,2,7,3,6,4,5]\n",
    "list_numbers.sort()\n",
    "print(list_numbers)\n",
    "\n",
    "list_numbers.sort(reverse=True)\n",
    "print(\"Reverse Sort:\",list_numbers)"
   ]
  },
  {
   "cell_type": "markdown",
   "metadata": {},
   "source": [
    "### Tuple Methods"
   ]
  },
  {
   "cell_type": "code",
   "execution_count": null,
   "metadata": {},
   "outputs": [
    {
     "ename": "",
     "evalue": "",
     "output_type": "error",
     "traceback": [
      "\u001b[1;31mRunning cells with 'Python 3.12.3 64-bit' requires ipykernel package.\n",
      "\u001b[1;31mRun the following command to install 'ipykernel' into the Python environment. \n",
      "\u001b[1;31mCommand: '/opt/homebrew/bin/python3 -m pip install ipykernel -U --user --force-reinstall'"
     ]
    }
   ],
   "source": [
    "# Creating a tuple\n",
    "tuple_numbers =(1,1,1,2,2,3,3,4,4,5)\n",
    "print(tuple_numbers)\n",
    "\n",
    "# Find an index of an element (first occurence)\n",
    "print(\"Index of 3:\",tuple_numbers.index(3))\n",
    "\n",
    "# How many times a element is inside the tuple\n",
    "print(\"Count of 1:\", tuple_numbers.count(1))"
   ]
  },
  {
   "cell_type": "markdown",
   "metadata": {},
   "source": [
    "### Dictionary Methods"
   ]
  },
  {
   "cell_type": "code",
   "execution_count": null,
   "metadata": {},
   "outputs": [
    {
     "ename": "",
     "evalue": "",
     "output_type": "error",
     "traceback": [
      "\u001b[1;31mRunning cells with 'Python 3.12.3 64-bit' requires ipykernel package.\n",
      "\u001b[1;31mRun the following command to install 'ipykernel' into the Python environment. \n",
      "\u001b[1;31mCommand: '/opt/homebrew/bin/python3 -m pip install ipykernel -U --user --force-reinstall'"
     ]
    }
   ],
   "source": [
    "dict_person ={\n",
    "    \"name\" :\"John Doe\",\n",
    "    \"age\":30,\n",
    "    \"address\":\"123 Example Street\"\n",
    "}\n",
    "\n",
    "# Indexing\n",
    "print(\"Name: \",dict_person[\"name\"])\n",
    "#print(\"Gender:\",dict_person[\"gender\"])\n",
    "\n",
    "# Get Method\n",
    "print(\"Get name:\",dict_person.get(\"name\"))\n",
    "print(\"Gender:\",dict_person.get(\"gender\"))\n",
    "\n",
    "# Remove key-value pairs\n",
    "del dict_person[\"age\"]\n",
    "print(\"Del:\", dict_person)\n",
    "\n",
    "# List the keys of the dictionary\n",
    "print(\"Keys:\", dict_person.keys())\n",
    "\n",
    "# List the values of the dictionary\n",
    "print(\"Values:\", dict_person.values())\n",
    "\n",
    "# List the key-values of the dictionary\n",
    "print(\"Key and Value pair:\", dict_person.items())"
   ]
  },
  {
   "cell_type": "code",
   "execution_count": null,
   "metadata": {},
   "outputs": [
    {
     "ename": "",
     "evalue": "",
     "output_type": "error",
     "traceback": [
      "\u001b[1;31mRunning cells with 'Python 3.12.3 64-bit' requires ipykernel package.\n",
      "\u001b[1;31mRun the following command to install 'ipykernel' into the Python environment. \n",
      "\u001b[1;31mCommand: '/opt/homebrew/bin/python3 -m pip install ipykernel -U --user --force-reinstall'"
     ]
    }
   ],
   "source": [
    "dict_letters ={\"a\":1,\"b\":2,\"c\":3}\n",
    "dict_next_letters ={\"d\":4,\"e\":5,\"f\":6}\n",
    "\n",
    "dict_letters.update(dict_next_letters)\n",
    "print(\"Letters:\",dict_letters)\n",
    "\n",
    "# Using the +\n",
    "#print(dict_letters + dict_next_letters)\n",
    "\n",
    "tuple1 = (1,2,3,4,5)\n",
    "tuple2 =(6,7,8,9,10)\n",
    "print(tuple1+tuple2)"
   ]
  },
  {
   "cell_type": "markdown",
   "metadata": {},
   "source": [
    "list - []\n",
    "dict - {}\n",
    "tuples - ()"
   ]
  },
  {
   "cell_type": "markdown",
   "metadata": {},
   "source": [
    "### Control Flow Statements"
   ]
  },
  {
   "cell_type": "code",
   "execution_count": null,
   "metadata": {},
   "outputs": [
    {
     "name": "stdout",
     "output_type": "stream",
     "text": [
      "It's melting outside\n"
     ]
    }
   ],
   "source": [
    "# Conditional Statements\n",
    "\n",
    "# if/else\n",
    "temperature =46\n",
    "\n",
    "if temperature <0:\n",
    "    print(\"It is freezing\")\n",
    "elif temperature >=0 and temperature <20:\n",
    "    print(\"Its cool\")\n",
    "elif temperature >=20 and temperature <30:\n",
    "    print(\"Its warm\")\n",
    "else:\n",
    "    print(\"It's melting outside\")"
   ]
  },
  {
   "cell_type": "code",
   "execution_count": null,
   "metadata": {},
   "outputs": [
    {
     "name": "stdout",
     "output_type": "stream",
     "text": [
      "Its the start of the week.\n"
     ]
    }
   ],
   "source": [
    "# match/case\n",
    "day = \"Monday\"\n",
    "\n",
    "match day:\n",
    "    case \"Monday\":\n",
    "        print(\"Its the start of the week.\")\n",
    "    case \"Friday\":\n",
    "        print(\"Its the end of the week.\")\n",
    "    case _:\n",
    "        print(\"Its the just a normal day.\")\n",
    "    "
   ]
  },
  {
   "cell_type": "code",
   "execution_count": null,
   "metadata": {},
   "outputs": [
    {
     "name": "stdout",
     "output_type": "stream",
     "text": [
      "Hello world!\n",
      "Hello world!\n",
      "Hello world!\n",
      "Hello world!\n",
      "Hello world!\n",
      "Hello world!\n",
      "Hello world!\n",
      "Hello world!\n",
      "Hello world!\n",
      "Hello world!\n"
     ]
    }
   ],
   "source": [
    "# Looping Staments\n",
    "\n",
    "# for loop\n",
    "# range ( number of times we want to repeat a statement)\n",
    "for i in range(10):\n",
    "    print(\"Hello world!\")\n",
    "\n",
    "\n",
    "#pyenv global 3.11.7"
   ]
  },
  {
   "cell_type": "code",
   "execution_count": null,
   "metadata": {},
   "outputs": [
    {
     "name": "stdout",
     "output_type": "stream",
     "text": [
      "For Loop Count: 0\n",
      "For Loop Count: 1\n",
      "For Loop Count: 2\n",
      "For Loop Count: 3\n",
      "For Loop Count: 4\n"
     ]
    }
   ],
   "source": [
    "for i in range(5):\n",
    "    print(\"For Loop Count:\", i)"
   ]
  },
  {
   "cell_type": "code",
   "execution_count": null,
   "metadata": {},
   "outputs": [
    {
     "name": "stdout",
     "output_type": "stream",
     "text": [
      "Count 0\n",
      "Count 1\n",
      "Count 2\n"
     ]
    }
   ],
   "source": [
    "# While loop\n",
    "count =0\n",
    "while (count <3):\n",
    "    print(\"Count\",count)\n",
    "    count+= 1"
   ]
  },
  {
   "cell_type": "markdown",
   "metadata": {},
   "source": [
    "## Python Functions\n",
    "\n",
    "- Groups code together into a block.\n",
    "- Allows us to call and reuse code efficently.\n",
    "- It could take in information (parameters) and return information (return statement) to the caller."
   ]
  },
  {
   "cell_type": "code",
   "execution_count": null,
   "metadata": {},
   "outputs": [
    {
     "name": "stdout",
     "output_type": "stream",
     "text": [
      "Hello, and welcome to the world of functions.\n",
      "Let's goooo!\n",
      "Hello, and welcome to the world of functions.\n",
      "Let's goooo!\n",
      "Hello, and welcome to the world of functions.\n",
      "Let's goooo!\n"
     ]
    }
   ],
   "source": [
    "def greet_user():\n",
    "    print(\"Hello, and welcome to the world of functions.\")\n",
    "    print(\"Let's goooo!\")\n",
    "greet_user()\n",
    "greet_user()\n",
    "greet_user()"
   ]
  },
  {
   "cell_type": "code",
   "execution_count": null,
   "metadata": {},
   "outputs": [
    {
     "name": "stdout",
     "output_type": "stream",
     "text": [
      "Hello Naga\n",
      "Hello Mike\n"
     ]
    }
   ],
   "source": [
    "def greet_a_certain_user(first_name):\n",
    "    print(\"Hello\",first_name)\n",
    "\n",
    "greet_a_certain_user(\"Naga\")\n",
    "greet_a_certain_user(\"Mike\")"
   ]
  },
  {
   "cell_type": "code",
   "execution_count": null,
   "metadata": {},
   "outputs": [
    {
     "name": "stdout",
     "output_type": "stream",
     "text": [
      "('Mike', 'Wai', 'Xavier')\n",
      "('Mike', 'Wai', 'Xavier')\n",
      "('Mike', 'Wai', 'Xavier')\n"
     ]
    }
   ],
   "source": [
    "# Arbitary Argument\n",
    "def list_of_people(*names):\n",
    "    for name in names:\n",
    "        print(names)\n",
    "\n",
    "list_of_people(\"Mike\",\"Wai\",\"Xavier\")"
   ]
  },
  {
   "cell_type": "code",
   "execution_count": null,
   "metadata": {},
   "outputs": [
    {
     "name": "stdout",
     "output_type": "stream",
     "text": [
      "Total: 28\n",
      "Total: 398\n"
     ]
    }
   ],
   "source": [
    "def sum_of_numbers(*numbers):\n",
    "    total =0\n",
    "    for number in numbers:\n",
    "        total+=number\n",
    "    print(\"Total:\",total)\n",
    "sum_of_numbers(3,4,10,11)\n",
    "sum_of_numbers(43,54,150,151)\n"
   ]
  },
  {
   "cell_type": "code",
   "execution_count": null,
   "metadata": {},
   "outputs": [
    {
     "name": "stdout",
     "output_type": "stream",
     "text": [
      "Total: 1320\n"
     ]
    }
   ],
   "source": [
    "def product_of_numbers(*numbers):\n",
    "    total = 1\n",
    "    for number in numbers:\n",
    "        total *= number\n",
    "    print(\"Total:\", total)\n",
    "product_of_numbers(3, 4, 10, 11)"
   ]
  },
  {
   "cell_type": "code",
   "execution_count": null,
   "metadata": {},
   "outputs": [
    {
     "name": "stdout",
     "output_type": "stream",
     "text": [
      "The persons details: John Doe\n",
      "The persons details: Debora Machado\n",
      "The persons details: Nimi James\n"
     ]
    }
   ],
   "source": [
    "# Keyword Arguments\n",
    "def display_fullname(**details):\n",
    "    print(f'The persons details: {details[\"first_name\"]} {details[\"last_name\"]}')\n",
    "    \n",
    "display_fullname(first_name=\"John\", last_name=\"Doe\")\n",
    "display_fullname(first_name=\"Debora\", last_name=\"Machado\")\n",
    "display_fullname(first_name=\"Nimi\", last_name=\"James\")"
   ]
  },
  {
   "cell_type": "code",
   "execution_count": null,
   "metadata": {},
   "outputs": [
    {
     "name": "stdout",
     "output_type": "stream",
     "text": [
      "The persons details: John Doe 21\n",
      "The persons details: Debora Machado 21\n",
      "The persons details: Nimi James 21\n"
     ]
    }
   ],
   "source": [
    "# Keyword Arguments\n",
    "def display_fullname(**details):\n",
    "    print(f'The persons details: {details[\"first_name\"]} {details[\"last_name\"]} {details[\"age\"]}')\n",
    "display_fullname(first_name=\"John\", last_name=\"Doe\", age=\"21\")\n",
    "display_fullname(first_name=\"Debora\", last_name=\"Machado\", age=\"21\")\n",
    "display_fullname(first_name=\"Nimi\", last_name=\"James\", age=\"21\")"
   ]
  },
  {
   "cell_type": "code",
   "execution_count": null,
   "metadata": {},
   "outputs": [
    {
     "name": "stdout",
     "output_type": "stream",
     "text": [
      "Odd\n"
     ]
    }
   ],
   "source": [
    "num =121;\n",
    "if (num %2 ==0):\n",
    "    print(\"Even\")\n",
    "else:\n",
    "    print(\"Odd\")"
   ]
  },
  {
   "cell_type": "code",
   "execution_count": null,
   "metadata": {},
   "outputs": [
    {
     "name": "stdout",
     "output_type": "stream",
     "text": [
      "2\n",
      "2\n",
      "2\n",
      "2\n",
      "2\n",
      "2\n",
      "2\n",
      "2\n",
      "2\n",
      "2\n"
     ]
    }
   ],
   "source": [
    "num =2\n",
    "for i in range(10):\n",
    "    print(num)"
   ]
  }
 ],
 "metadata": {
  "kernelspec": {
   "display_name": "Python 3.11.5 64-bit",
   "language": "python",
   "name": "python3"
  },
  "language_info": {
   "codemirror_mode": {
    "name": "ipython",
    "version": 3
   },
   "file_extension": ".py",
   "mimetype": "text/x-python",
   "name": "python",
   "nbconvert_exporter": "python",
   "pygments_lexer": "ipython3",
   "version": "3.11.5"
  },
  "orig_nbformat": 4,
  "vscode": {
   "interpreter": {
    "hash": "1a1af0ee75eeea9e2e1ee996c87e7a2b11a0bebd85af04bb136d915cefc0abce"
   }
  }
 },
 "nbformat": 4,
 "nbformat_minor": 2
}
