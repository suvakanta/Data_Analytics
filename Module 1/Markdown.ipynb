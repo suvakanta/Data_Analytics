{
 "cells": [
  {
   "cell_type": "markdown",
   "metadata": {},
   "source": [
    "jupyter Notebook is an open-source web application that allows you to create and share documents that contain live code, equations, visualizations, and narrative text."
   ]
  },
  {
   "cell_type": "markdown",
   "metadata": {},
   "source": [
    "# Jupyter Notebook is an open-source web application that allows you to create and share documents that contain live code, equations, visualizations, and narrative text."
   ]
  },
  {
   "cell_type": "markdown",
   "metadata": {},
   "source": []
  },
  {
   "cell_type": "markdown",
   "metadata": {},
   "source": [
    "## Jypyter Notebook"
   ]
  },
  {
   "cell_type": "markdown",
   "metadata": {},
   "source": []
  },
  {
   "cell_type": "markdown",
   "metadata": {},
   "source": [
    "### suvakanta"
   ]
  },
  {
   "cell_type": "markdown",
   "metadata": {},
   "source": [
    "### Starting to consume events"
   ]
  },
  {
   "cell_type": "markdown",
   "metadata": {},
   "source": [
    "### Jupyter Notebook is an open-source web application that allows you to create and share documents that contain live code, equations, visualizations, and narrative text. Notebook and Markdown is widely used for creating documentation and reports."
   ]
  },
  {
   "cell_type": "markdown",
   "metadata": {},
   "source": []
  },
  {
   "cell_type": "markdown",
   "metadata": {},
   "source": [
    "## Keyboard Shortcuts"
   ]
  },
  {
   "cell_type": "markdown",
   "metadata": {},
   "source": [
    "- Shift + Enter: Execute the current cell and move to the next one.\n",
    "- Ctrl + Enter: Execute the current cell and remain in the same cell.\n",
    "- Esc: Enter command mode, allowing for navigation and execution commands.\n",
    "- Enter: Enter edit mode for the currently selected cell.\n",
    "- A (in command mode): Insert a new cell above the current cell.\n",
    "- B (in command mode): Insert a new cell below the current cell.\n",
    "- M (in command mode): Change the current cell to a Markdown cell.\n",
    "- Y (in command mode): Change the current cell to a Code cell."
   ]
  },
  {
   "cell_type": "markdown",
   "metadata": {},
   "source": [
    "## What is Markdown?"
   ]
  },
  {
   "cell_type": "markdown",
   "metadata": {},
   "source": [
    "Markdown is a lightweight markup language with plain-text formatting syntax, designed to be easy to read and write. It was created by John Gruber in 2004 with the goal of allowing people to write using an easy-to-read and easy-to-write plain text format, which could then be converted into structurally valid XHTML (or HTML). Markdown is widely used for creating documentation, writing README files for projects, and even writing emails."
   ]
  },
  {
   "cell_type": "markdown",
   "metadata": {},
   "source": [
    "## Basic Markdown Syntax"
   ]
  },
  {
   "cell_type": "markdown",
   "metadata": {},
   "source": [
    "### Headings"
   ]
  },
  {
   "cell_type": "markdown",
   "metadata": {},
   "source": [
    "# Heading, Title\n",
    "## Heading 2, Major Headings\n",
    "### Heading 3, Subheadings\n",
    "#### Heading 4, 4th Level subheadings\n",
    "##### Heading 5, 5th Level subheadings\n",
    "###### Heading 6, 6th Level subheadings\n"
   ]
  },
  {
   "cell_type": "markdown",
   "metadata": {},
   "source": [
    "## Plain text\n"
   ]
  },
  {
   "cell_type": "markdown",
   "metadata": {},
   "source": [
    "This is a sample of a plain text. You use plain text combined with simple symbols to add formatting, which makes the text both readable in its raw form and easily convertible to other formats."
   ]
  },
  {
   "cell_type": "markdown",
   "metadata": {},
   "source": [
    "## Text formatting"
   ]
  },
  {
   "cell_type": "markdown",
   "metadata": {},
   "source": [
    "<!--Bold -->\n",
    "This is some **bold text**.\n",
    "This is some __bold text__.\n",
    "\n",
    "<!--Italic -->\n",
    "This is some *italicized text*.\n",
    "This is some _italicized text_.\n",
    "\n",
    "<!--Strikethrough -->\n",
    "This is some ~~invalid~~ text.\n",
    "\n",
    "<!--Superscript and Subscript -->\n",
    "The chemical formula of water is H<sub>2</sub>O\n",
    "The expression is x<sup>2</sup>\n"
   ]
  },
  {
   "cell_type": "markdown",
   "metadata": {},
   "source": [
    "<!--Bold-->"
   ]
  },
  {
   "cell_type": "markdown",
   "metadata": {},
   "source": [
    "### Inline Code, Blockquotes, Horizontal Rule"
   ]
  },
  {
   "cell_type": "markdown",
   "metadata": {},
   "source": [
    "<!-- Inline Code -->\n",
    "`print(\"Hello World!\")`\n",
    "\n",
    "<!-- Blockquotes -->\n",
    "> This is a blockquote\n",
    "\n",
    "<!-- Horizontal Rule -->\n",
    "---\n",
    "***\n",
    "___\n"
   ]
  },
  {
   "cell_type": "markdown",
   "metadata": {},
   "source": []
  },
  {
   "cell_type": "markdown",
   "metadata": {},
   "source": [
    "## Links & Images"
   ]
  },
  {
   "cell_type": "markdown",
   "metadata": {},
   "source": [
    "<!-- Links -->\n",
    "[Google](https://www.google.com)\n",
    "\n",
    "<!-- Images -->\n",
    "![Image Alt text](https://seeklogo.com/images/G/github-logo-7880D80B8D-seeklogo.com.png)\n",
    "![Image Alt text](github.png)"
   ]
  },
  {
   "cell_type": "markdown",
   "metadata": {},
   "source": []
  },
  {
   "cell_type": "markdown",
   "metadata": {},
   "source": [
    "## Markdown List"
   ]
  },
  {
   "cell_type": "markdown",
   "metadata": {},
   "source": [
    "### Unordered List"
   ]
  },
  {
   "cell_type": "markdown",
   "metadata": {},
   "source": [
    "- Item 1\n",
    "- Item 2\n",
    "- Item 3"
   ]
  },
  {
   "cell_type": "markdown",
   "metadata": {},
   "source": [
    "### Ordered List"
   ]
  },
  {
   "cell_type": "markdown",
   "metadata": {},
   "source": [
    "1. Item 1\n",
    "2. Item 2\n",
    "3. Item 3"
   ]
  },
  {
   "cell_type": "markdown",
   "metadata": {},
   "source": []
  },
  {
   "cell_type": "markdown",
   "metadata": {},
   "source": [
    "## Tables"
   ]
  },
  {
   "cell_type": "markdown",
   "metadata": {},
   "source": [
    "| Header 1    | Header 2    | Header 3    | Header 4    | Header 5    |\n",
    "|-------------|-------------|-------------|-------------|-------------|\n",
    "| Row 1, Col 1| Row 1, Col 2| Row 1, Col 3|Row 1, Col 4 | Row 1. Col 5|\n",
    "| Row 2, Col 1| Row 2, Col 2| Row 2, Col 3|Row 2, Col 4 | Row 2. Col 5|\n",
    "| Row 3, Col 1| Row 3, Col 2| Row 3, Col 3|Row 3, Col 4 | Row 3. Col 5|"
   ]
  },
  {
   "cell_type": "markdown",
   "metadata": {},
   "source": []
  }
 ],
 "metadata": {
  "kernelspec": {
   "display_name": "Python 3.9.1 64-bit ('3.9.1')",
   "language": "python",
   "name": "python3"
  },
  "language_info": {
   "name": "python",
   "version": "3.9.1"
  },
  "orig_nbformat": 4,
  "vscode": {
   "interpreter": {
    "hash": "d8b57a208c2c4b286cff96dc4d3b357863a2a0be9608755a29779ceb8557b862"
   }
  }
 },
 "nbformat": 4,
 "nbformat_minor": 2
}
