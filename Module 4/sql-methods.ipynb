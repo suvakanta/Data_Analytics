{
 "cells": [
  {
   "cell_type": "markdown",
   "metadata": {},
   "source": [
    "## SQL Methods"
   ]
  },
  {
   "cell_type": "code",
   "execution_count": 1,
   "metadata": {},
   "outputs": [
    {
     "name": "stdout",
     "output_type": "stream",
     "text": [
      "Collecting ipython-sql\n",
      "  Obtaining dependency information for ipython-sql from https://files.pythonhosted.org/packages/30/8f/9e50fa53ffc371483f9d1b90c1175b706d28a2e978e90a8894035af01905/ipython_sql-0.5.0-py3-none-any.whl.metadata\n",
      "  Downloading ipython_sql-0.5.0-py3-none-any.whl.metadata (17 kB)\n",
      "Collecting prettytable (from ipython-sql)\n",
      "  Obtaining dependency information for prettytable from https://files.pythonhosted.org/packages/3d/c4/a32f4bf44faf95accbbd5d7864ddef9e289749a8efbc3adaad4a4671779a/prettytable-3.10.0-py3-none-any.whl.metadata\n",
      "  Downloading prettytable-3.10.0-py3-none-any.whl.metadata (30 kB)\n",
      "Requirement already satisfied: ipython in /Users/suvakantasamantray/.pyenv/versions/3.11.7/lib/python3.11/site-packages (from ipython-sql) (8.26.0)\n",
      "Collecting sqlalchemy>=2.0 (from ipython-sql)\n",
      "  Obtaining dependency information for sqlalchemy>=2.0 from https://files.pythonhosted.org/packages/9b/29/2f57381879747658f0b2cff55eb3964296580a178690e3f672cfee45bc4c/SQLAlchemy-2.0.31-cp311-cp311-macosx_11_0_arm64.whl.metadata\n",
      "  Downloading SQLAlchemy-2.0.31-cp311-cp311-macosx_11_0_arm64.whl.metadata (9.6 kB)\n",
      "Collecting sqlparse (from ipython-sql)\n",
      "  Obtaining dependency information for sqlparse from https://files.pythonhosted.org/packages/43/5d/a0fdd88fd486b39ae1fd1a75ff75b4e29a0df96c0304d462fd407b82efe0/sqlparse-0.5.0-py3-none-any.whl.metadata\n",
      "  Downloading sqlparse-0.5.0-py3-none-any.whl.metadata (3.9 kB)\n",
      "Requirement already satisfied: six in /Users/suvakantasamantray/.pyenv/versions/3.11.7/lib/python3.11/site-packages (from ipython-sql) (1.16.0)\n",
      "Collecting ipython-genutils (from ipython-sql)\n",
      "  Obtaining dependency information for ipython-genutils from https://files.pythonhosted.org/packages/fa/bc/9bd3b5c2b4774d5f33b2d544f1460be9df7df2fe42f352135381c347c69a/ipython_genutils-0.2.0-py2.py3-none-any.whl.metadata\n",
      "  Downloading ipython_genutils-0.2.0-py2.py3-none-any.whl.metadata (755 bytes)\n",
      "Requirement already satisfied: typing-extensions>=4.6.0 in /Users/suvakantasamantray/.pyenv/versions/3.11.7/lib/python3.11/site-packages (from sqlalchemy>=2.0->ipython-sql) (4.12.2)\n",
      "Requirement already satisfied: decorator in /Users/suvakantasamantray/.pyenv/versions/3.11.7/lib/python3.11/site-packages (from ipython->ipython-sql) (5.1.1)\n",
      "Requirement already satisfied: jedi>=0.16 in /Users/suvakantasamantray/.pyenv/versions/3.11.7/lib/python3.11/site-packages (from ipython->ipython-sql) (0.19.1)\n",
      "Requirement already satisfied: matplotlib-inline in /Users/suvakantasamantray/.pyenv/versions/3.11.7/lib/python3.11/site-packages (from ipython->ipython-sql) (0.1.7)\n",
      "Requirement already satisfied: prompt-toolkit<3.1.0,>=3.0.41 in /Users/suvakantasamantray/.pyenv/versions/3.11.7/lib/python3.11/site-packages (from ipython->ipython-sql) (3.0.47)\n",
      "Requirement already satisfied: pygments>=2.4.0 in /Users/suvakantasamantray/.pyenv/versions/3.11.7/lib/python3.11/site-packages (from ipython->ipython-sql) (2.18.0)\n",
      "Requirement already satisfied: stack-data in /Users/suvakantasamantray/.pyenv/versions/3.11.7/lib/python3.11/site-packages (from ipython->ipython-sql) (0.6.3)\n",
      "Requirement already satisfied: traitlets>=5.13.0 in /Users/suvakantasamantray/.pyenv/versions/3.11.7/lib/python3.11/site-packages (from ipython->ipython-sql) (5.14.3)\n",
      "Requirement already satisfied: pexpect>4.3 in /Users/suvakantasamantray/.pyenv/versions/3.11.7/lib/python3.11/site-packages (from ipython->ipython-sql) (4.9.0)\n",
      "Requirement already satisfied: wcwidth in /Users/suvakantasamantray/.pyenv/versions/3.11.7/lib/python3.11/site-packages (from prettytable->ipython-sql) (0.2.13)\n",
      "Requirement already satisfied: parso<0.9.0,>=0.8.3 in /Users/suvakantasamantray/.pyenv/versions/3.11.7/lib/python3.11/site-packages (from jedi>=0.16->ipython->ipython-sql) (0.8.4)\n",
      "Requirement already satisfied: ptyprocess>=0.5 in /Users/suvakantasamantray/.pyenv/versions/3.11.7/lib/python3.11/site-packages (from pexpect>4.3->ipython->ipython-sql) (0.7.0)\n",
      "Requirement already satisfied: executing>=1.2.0 in /Users/suvakantasamantray/.pyenv/versions/3.11.7/lib/python3.11/site-packages (from stack-data->ipython->ipython-sql) (2.0.1)\n",
      "Requirement already satisfied: asttokens>=2.1.0 in /Users/suvakantasamantray/.pyenv/versions/3.11.7/lib/python3.11/site-packages (from stack-data->ipython->ipython-sql) (2.4.1)\n",
      "Requirement already satisfied: pure-eval in /Users/suvakantasamantray/.pyenv/versions/3.11.7/lib/python3.11/site-packages (from stack-data->ipython->ipython-sql) (0.2.2)\n",
      "Downloading ipython_sql-0.5.0-py3-none-any.whl (20 kB)\n",
      "Downloading SQLAlchemy-2.0.31-cp311-cp311-macosx_11_0_arm64.whl (2.1 MB)\n",
      "\u001b[2K   \u001b[90m━━━━━━━━━━━━━━━━━━━━━━━━━━━━━━━━━━━━━━━━\u001b[0m \u001b[32m2.1/2.1 MB\u001b[0m \u001b[31m22.0 MB/s\u001b[0m eta \u001b[36m0:00:00\u001b[0ma \u001b[36m0:00:01\u001b[0m\n",
      "\u001b[?25hDownloading ipython_genutils-0.2.0-py2.py3-none-any.whl (26 kB)\n",
      "Downloading prettytable-3.10.0-py3-none-any.whl (28 kB)\n",
      "Downloading sqlparse-0.5.0-py3-none-any.whl (43 kB)\n",
      "\u001b[2K   \u001b[90m━━━━━━━━━━━━━━━━━━━━━━━━━━━━━━━━━━━━━━━━\u001b[0m \u001b[32m44.0/44.0 kB\u001b[0m \u001b[31m4.0 MB/s\u001b[0m eta \u001b[36m0:00:00\u001b[0m\n",
      "\u001b[?25hInstalling collected packages: ipython-genutils, sqlparse, sqlalchemy, prettytable, ipython-sql\n",
      "Successfully installed ipython-genutils-0.2.0 ipython-sql-0.5.0 prettytable-3.10.0 sqlalchemy-2.0.31 sqlparse-0.5.0\n",
      "\n",
      "\u001b[1m[\u001b[0m\u001b[34;49mnotice\u001b[0m\u001b[1;39;49m]\u001b[0m\u001b[39;49m A new release of pip is available: \u001b[0m\u001b[31;49m23.2.1\u001b[0m\u001b[39;49m -> \u001b[0m\u001b[32;49m24.1.1\u001b[0m\n",
      "\u001b[1m[\u001b[0m\u001b[34;49mnotice\u001b[0m\u001b[1;39;49m]\u001b[0m\u001b[39;49m To update, run: \u001b[0m\u001b[32;49mpip install --upgrade pip\u001b[0m\n",
      "Note: you may need to restart the kernel to use updated packages.\n"
     ]
    }
   ],
   "source": [
    "# Install sql extension\n",
    "%pip install ipython-sql"
   ]
  },
  {
   "cell_type": "code",
   "execution_count": 2,
   "metadata": {},
   "outputs": [],
   "source": [
    "# Enabling our extension\n",
    "%load_ext sql"
   ]
  },
  {
   "cell_type": "code",
   "execution_count": 3,
   "metadata": {},
   "outputs": [],
   "source": [
    "# Creating the database\n",
    "%sql sqlite:///sql-methods.db"
   ]
  },
  {
   "cell_type": "code",
   "execution_count": 8,
   "metadata": {},
   "outputs": [
    {
     "name": "stdout",
     "output_type": "stream",
     "text": [
      " * sqlite:///sql-methods.db\n",
      "Done.\n"
     ]
    },
    {
     "data": {
      "text/plain": [
       "[]"
      ]
     },
     "execution_count": 8,
     "metadata": {},
     "output_type": "execute_result"
    }
   ],
   "source": [
    "\n",
    "%%sql\n",
    "-- CREATING THE TABLE\n",
    "CREATE \n",
    "TABLE IF NOT EXISTS employees(\n",
    "    employee_id INTEGER PRIMARY KEY AUTOINCREMENT,\n",
    "    first_name VARCHAR(50) NOT NULL,\n",
    "    last_name VARCHAR(50) NOT NULL,\n",
    "    department VARCHAR(50),\n",
    "    salary DECIMAL(10,2) NOT NULL\n",
    ");"
   ]
  },
  {
   "cell_type": "code",
   "execution_count": 14,
   "metadata": {},
   "outputs": [
    {
     "name": "stdout",
     "output_type": "stream",
     "text": [
      " * sqlite:///sql-methods.db\n",
      "Done.\n"
     ]
    },
    {
     "data": {
      "text/html": [
       "<table>\n",
       "    <thead>\n",
       "        <tr>\n",
       "            <th>cid</th>\n",
       "            <th>name</th>\n",
       "            <th>type</th>\n",
       "            <th>notnull</th>\n",
       "            <th>dflt_value</th>\n",
       "            <th>pk</th>\n",
       "        </tr>\n",
       "    </thead>\n",
       "    <tbody>\n",
       "        <tr>\n",
       "            <td>0</td>\n",
       "            <td>employee_id</td>\n",
       "            <td>INTEGER</td>\n",
       "            <td>0</td>\n",
       "            <td>None</td>\n",
       "            <td>1</td>\n",
       "        </tr>\n",
       "        <tr>\n",
       "            <td>1</td>\n",
       "            <td>first_name</td>\n",
       "            <td>VARCHAR(50)</td>\n",
       "            <td>1</td>\n",
       "            <td>None</td>\n",
       "            <td>0</td>\n",
       "        </tr>\n",
       "        <tr>\n",
       "            <td>2</td>\n",
       "            <td>last_name</td>\n",
       "            <td>VARCHAR(50)</td>\n",
       "            <td>1</td>\n",
       "            <td>None</td>\n",
       "            <td>0</td>\n",
       "        </tr>\n",
       "        <tr>\n",
       "            <td>3</td>\n",
       "            <td>department</td>\n",
       "            <td>VARCHAR(50)</td>\n",
       "            <td>0</td>\n",
       "            <td>None</td>\n",
       "            <td>0</td>\n",
       "        </tr>\n",
       "        <tr>\n",
       "            <td>4</td>\n",
       "            <td>salary</td>\n",
       "            <td>DECIMAL(10,2)</td>\n",
       "            <td>1</td>\n",
       "            <td>None</td>\n",
       "            <td>0</td>\n",
       "        </tr>\n",
       "        <tr>\n",
       "            <td>5</td>\n",
       "            <td>hire_date</td>\n",
       "            <td>DATE</td>\n",
       "            <td>0</td>\n",
       "            <td>None</td>\n",
       "            <td>0</td>\n",
       "        </tr>\n",
       "        <tr>\n",
       "            <td>6</td>\n",
       "            <td>performance_rating</td>\n",
       "            <td>INTEGER</td>\n",
       "            <td>0</td>\n",
       "            <td>None</td>\n",
       "            <td>0</td>\n",
       "        </tr>\n",
       "    </tbody>\n",
       "</table>"
      ],
      "text/plain": [
       "[(0, 'employee_id', 'INTEGER', 0, None, 1),\n",
       " (1, 'first_name', 'VARCHAR(50)', 1, None, 0),\n",
       " (2, 'last_name', 'VARCHAR(50)', 1, None, 0),\n",
       " (3, 'department', 'VARCHAR(50)', 0, None, 0),\n",
       " (4, 'salary', 'DECIMAL(10,2)', 1, None, 0),\n",
       " (5, 'hire_date', 'DATE', 0, None, 0),\n",
       " (6, 'performance_rating', 'INTEGER', 0, None, 0)]"
      ]
     },
     "execution_count": 14,
     "metadata": {},
     "output_type": "execute_result"
    }
   ],
   "source": [
    "%sql PRAGMA table_info('employees')"
   ]
  },
  {
   "cell_type": "code",
   "execution_count": 15,
   "metadata": {},
   "outputs": [
    {
     "name": "stdout",
     "output_type": "stream",
     "text": [
      " * sqlite:///sql-methods.db\n",
      "Done.\n"
     ]
    },
    {
     "data": {
      "text/html": [
       "<table>\n",
       "    <thead>\n",
       "        <tr>\n",
       "            <th>name</th>\n",
       "        </tr>\n",
       "    </thead>\n",
       "    <tbody>\n",
       "        <tr>\n",
       "            <td>employees</td>\n",
       "        </tr>\n",
       "        <tr>\n",
       "            <td>sqlite_sequence</td>\n",
       "        </tr>\n",
       "    </tbody>\n",
       "</table>"
      ],
      "text/plain": [
       "[('employees',), ('sqlite_sequence',)]"
      ]
     },
     "execution_count": 15,
     "metadata": {},
     "output_type": "execute_result"
    }
   ],
   "source": [
    "%sql SELECT name FROM sqlite_master WHERE type='table'"
   ]
  },
  {
   "cell_type": "code",
   "execution_count": 11,
   "metadata": {},
   "outputs": [
    {
     "name": "stdout",
     "output_type": "stream",
     "text": [
      " * sqlite:///sql-methods.db\n",
      "Done.\n",
      "Done.\n"
     ]
    },
    {
     "data": {
      "text/plain": [
       "[]"
      ]
     },
     "execution_count": 11,
     "metadata": {},
     "output_type": "execute_result"
    }
   ],
   "source": [
    "%%sql\n",
    "ALTER TABLE employees\n",
    "ADD hire_date DATE;\n",
    "\n",
    "ALTER TABLE employees\n",
    "ADD performance_rating INTEGER;"
   ]
  },
  {
   "cell_type": "code",
   "execution_count": 13,
   "metadata": {},
   "outputs": [
    {
     "name": "stdout",
     "output_type": "stream",
     "text": [
      " * sqlite:///sql-methods.db\n",
      "1 rows affected.\n",
      "1 rows affected.\n",
      "1 rows affected.\n",
      "1 rows affected.\n",
      "1 rows affected.\n"
     ]
    },
    {
     "data": {
      "text/plain": [
       "[]"
      ]
     },
     "execution_count": 13,
     "metadata": {},
     "output_type": "execute_result"
    }
   ],
   "source": [
    "%%sql\n",
    "--Insert data in our employees table\n",
    "INSERT INTO employees(first_name,last_name, department,salary,hire_date, performance_rating)\n",
    "VALUES ('John','Doe','Sales',50000.00,'2024-04-23',5);\n",
    "\n",
    "INSERT INTO employees(first_name,last_name, department,salary,hire_date, performance_rating)\n",
    "VALUES ('Subham','Samantray','Marketing',30000.00,'2024-04-21',4);\n",
    "\n",
    "INSERT INTO employees(first_name,last_name, department,salary,hire_date, performance_rating)\n",
    "VALUES ('Aishwarya','Roy','Engineering',70000.00,'2022-01-11',3);\n",
    "\n",
    "INSERT INTO employees(first_name,last_name, department,salary,hire_date, performance_rating)\n",
    "VALUES ('Martin','Crowe','Operations',40000.00,'2021-02-18',1);\n",
    "\n",
    "INSERT INTO employees(first_name,last_name, department,salary,hire_date, performance_rating)\n",
    "VALUES ('Xaviers','Mark','Operations',60000.00,'2021-12-20',2);"
   ]
  },
  {
   "cell_type": "markdown",
   "metadata": {},
   "source": [
    "## DISTINCT\n",
    "\n",
    "The **DISTINCT** keyword is used to return only distinct (unique) values in the result set of a query. It ensures that duplicate rows are removed from the output."
   ]
  },
  {
   "cell_type": "code",
   "execution_count": 21,
   "metadata": {},
   "outputs": [
    {
     "name": "stdout",
     "output_type": "stream",
     "text": [
      " * sqlite:///sql-methods.db\n",
      "Done.\n"
     ]
    },
    {
     "data": {
      "text/html": [
       "<table>\n",
       "    <thead>\n",
       "        <tr>\n",
       "            <th>department</th>\n",
       "        </tr>\n",
       "    </thead>\n",
       "    <tbody>\n",
       "        <tr>\n",
       "            <td>Sales</td>\n",
       "        </tr>\n",
       "        <tr>\n",
       "            <td>Marketing</td>\n",
       "        </tr>\n",
       "        <tr>\n",
       "            <td>Engineering</td>\n",
       "        </tr>\n",
       "        <tr>\n",
       "            <td>Operations</td>\n",
       "        </tr>\n",
       "        <tr>\n",
       "            <td>Purchase</td>\n",
       "        </tr>\n",
       "        <tr>\n",
       "            <td>Examinations</td>\n",
       "        </tr>\n",
       "    </tbody>\n",
       "</table>"
      ],
      "text/plain": [
       "[('Sales',),\n",
       " ('Marketing',),\n",
       " ('Engineering',),\n",
       " ('Operations',),\n",
       " ('Purchase',),\n",
       " ('Examinations',)]"
      ]
     },
     "execution_count": 21,
     "metadata": {},
     "output_type": "execute_result"
    }
   ],
   "source": [
    "%%sql\n",
    "-- retrieve unique department\n",
    "SELECT DISTINCT department\n",
    "FROM employees;\n"
   ]
  },
  {
   "cell_type": "code",
   "execution_count": 20,
   "metadata": {},
   "outputs": [
    {
     "name": "stdout",
     "output_type": "stream",
     "text": [
      " * sqlite:///sql-methods.db\n",
      "1 rows affected.\n",
      "1 rows affected.\n"
     ]
    },
    {
     "data": {
      "text/plain": [
       "[]"
      ]
     },
     "execution_count": 20,
     "metadata": {},
     "output_type": "execute_result"
    }
   ],
   "source": [
    "%%sql\n",
    "--Insert data in our employees table\n",
    "INSERT INTO employees(first_name,last_name, department,salary,hire_date, performance_rating)\n",
    "VALUES ('John','Doe','Purchase',55000.00,'2024-04-21',5);\n",
    "\n",
    "INSERT INTO employees(first_name,last_name, department,salary,hire_date, performance_rating)\n",
    "VALUES ('Subham','Samantray','Examinations',35000.00,'2024-03-20',5);"
   ]
  },
  {
   "cell_type": "code",
   "execution_count": 22,
   "metadata": {},
   "outputs": [
    {
     "name": "stdout",
     "output_type": "stream",
     "text": [
      " * sqlite:///sql-methods.db\n",
      "Done.\n"
     ]
    },
    {
     "data": {
      "text/html": [
       "<table>\n",
       "    <thead>\n",
       "        <tr>\n",
       "            <th>employee_id</th>\n",
       "            <th>first_name</th>\n",
       "            <th>last_name</th>\n",
       "            <th>department</th>\n",
       "            <th>salary</th>\n",
       "            <th>hire_date</th>\n",
       "            <th>performance_rating</th>\n",
       "        </tr>\n",
       "    </thead>\n",
       "    <tbody>\n",
       "        <tr>\n",
       "            <td>1</td>\n",
       "            <td>John</td>\n",
       "            <td>Doe</td>\n",
       "            <td>Sales</td>\n",
       "            <td>50000</td>\n",
       "            <td>2024-04-23</td>\n",
       "            <td>5</td>\n",
       "        </tr>\n",
       "        <tr>\n",
       "            <td>2</td>\n",
       "            <td>Subham</td>\n",
       "            <td>Samantray</td>\n",
       "            <td>Marketing</td>\n",
       "            <td>30000</td>\n",
       "            <td>2024-04-21</td>\n",
       "            <td>4</td>\n",
       "        </tr>\n",
       "        <tr>\n",
       "            <td>3</td>\n",
       "            <td>Aishwarya</td>\n",
       "            <td>Roy</td>\n",
       "            <td>Engineering</td>\n",
       "            <td>70000</td>\n",
       "            <td>2022-01-11</td>\n",
       "            <td>3</td>\n",
       "        </tr>\n",
       "        <tr>\n",
       "            <td>4</td>\n",
       "            <td>Martin</td>\n",
       "            <td>Crowe</td>\n",
       "            <td>Operations</td>\n",
       "            <td>40000</td>\n",
       "            <td>2021-02-18</td>\n",
       "            <td>1</td>\n",
       "        </tr>\n",
       "        <tr>\n",
       "            <td>5</td>\n",
       "            <td>Xaviers</td>\n",
       "            <td>Mark</td>\n",
       "            <td>Operations</td>\n",
       "            <td>60000</td>\n",
       "            <td>2021-12-20</td>\n",
       "            <td>2</td>\n",
       "        </tr>\n",
       "        <tr>\n",
       "            <td>6</td>\n",
       "            <td>John</td>\n",
       "            <td>Doe</td>\n",
       "            <td>Purchase</td>\n",
       "            <td>55000</td>\n",
       "            <td>2024-04-21</td>\n",
       "            <td>5</td>\n",
       "        </tr>\n",
       "        <tr>\n",
       "            <td>7</td>\n",
       "            <td>Subham</td>\n",
       "            <td>Samantray</td>\n",
       "            <td>Examinations</td>\n",
       "            <td>35000</td>\n",
       "            <td>2024-03-20</td>\n",
       "            <td>5</td>\n",
       "        </tr>\n",
       "    </tbody>\n",
       "</table>"
      ],
      "text/plain": [
       "[(1, 'John', 'Doe', 'Sales', 50000, '2024-04-23', 5),\n",
       " (2, 'Subham', 'Samantray', 'Marketing', 30000, '2024-04-21', 4),\n",
       " (3, 'Aishwarya', 'Roy', 'Engineering', 70000, '2022-01-11', 3),\n",
       " (4, 'Martin', 'Crowe', 'Operations', 40000, '2021-02-18', 1),\n",
       " (5, 'Xaviers', 'Mark', 'Operations', 60000, '2021-12-20', 2),\n",
       " (6, 'John', 'Doe', 'Purchase', 55000, '2024-04-21', 5),\n",
       " (7, 'Subham', 'Samantray', 'Examinations', 35000, '2024-03-20', 5)]"
      ]
     },
     "execution_count": 22,
     "metadata": {},
     "output_type": "execute_result"
    }
   ],
   "source": [
    "%sql SELECT * FROM employees"
   ]
  },
  {
   "cell_type": "code",
   "execution_count": 23,
   "metadata": {},
   "outputs": [
    {
     "name": "stdout",
     "output_type": "stream",
     "text": [
      " * sqlite:///sql-methods.db\n",
      "Done.\n"
     ]
    },
    {
     "data": {
      "text/html": [
       "<table>\n",
       "    <thead>\n",
       "        <tr>\n",
       "            <th>first_name</th>\n",
       "            <th>last_name</th>\n",
       "        </tr>\n",
       "    </thead>\n",
       "    <tbody>\n",
       "        <tr>\n",
       "            <td>John</td>\n",
       "            <td>Doe</td>\n",
       "        </tr>\n",
       "        <tr>\n",
       "            <td>Subham</td>\n",
       "            <td>Samantray</td>\n",
       "        </tr>\n",
       "        <tr>\n",
       "            <td>Aishwarya</td>\n",
       "            <td>Roy</td>\n",
       "        </tr>\n",
       "        <tr>\n",
       "            <td>Martin</td>\n",
       "            <td>Crowe</td>\n",
       "        </tr>\n",
       "        <tr>\n",
       "            <td>Xaviers</td>\n",
       "            <td>Mark</td>\n",
       "        </tr>\n",
       "    </tbody>\n",
       "</table>"
      ],
      "text/plain": [
       "[('John', 'Doe'),\n",
       " ('Subham', 'Samantray'),\n",
       " ('Aishwarya', 'Roy'),\n",
       " ('Martin', 'Crowe'),\n",
       " ('Xaviers', 'Mark')]"
      ]
     },
     "execution_count": 23,
     "metadata": {},
     "output_type": "execute_result"
    }
   ],
   "source": [
    "%%sql\n",
    "-- retrieve unique combinations of first name and last name\n",
    "\n",
    "SELECT DISTINCT first_name, last_name\n",
    "FROM employees;"
   ]
  },
  {
   "cell_type": "markdown",
   "metadata": {},
   "source": [
    "## LIMIT\n",
    "\n",
    "The **LIMIT** clause specifies the maximum number of rows to return in a query result.\n",
    "\n",
    "It's commonly used for:\n",
    "\n",
    "*   Pagination: Retrieving results in smaller chunks, often used in web applications to display data in pages.\n",
    "*   Performance optimization: Limiting the number of rows processed, especially for large datasets, can improve query speed."
   ]
  },
  {
   "cell_type": "code",
   "execution_count": 25,
   "metadata": {},
   "outputs": [
    {
     "name": "stdout",
     "output_type": "stream",
     "text": [
      " * sqlite:///sql-methods.db\n",
      "Done.\n"
     ]
    },
    {
     "data": {
      "text/html": [
       "<table>\n",
       "    <thead>\n",
       "        <tr>\n",
       "            <th>employee_id</th>\n",
       "            <th>first_name</th>\n",
       "            <th>last_name</th>\n",
       "            <th>department</th>\n",
       "            <th>salary</th>\n",
       "            <th>hire_date</th>\n",
       "            <th>performance_rating</th>\n",
       "        </tr>\n",
       "    </thead>\n",
       "    <tbody>\n",
       "        <tr>\n",
       "            <td>1</td>\n",
       "            <td>John</td>\n",
       "            <td>Doe</td>\n",
       "            <td>Sales</td>\n",
       "            <td>50000</td>\n",
       "            <td>2024-04-23</td>\n",
       "            <td>5</td>\n",
       "        </tr>\n",
       "        <tr>\n",
       "            <td>2</td>\n",
       "            <td>Subham</td>\n",
       "            <td>Samantray</td>\n",
       "            <td>Marketing</td>\n",
       "            <td>30000</td>\n",
       "            <td>2024-04-21</td>\n",
       "            <td>4</td>\n",
       "        </tr>\n",
       "        <tr>\n",
       "            <td>3</td>\n",
       "            <td>Aishwarya</td>\n",
       "            <td>Roy</td>\n",
       "            <td>Engineering</td>\n",
       "            <td>70000</td>\n",
       "            <td>2022-01-11</td>\n",
       "            <td>3</td>\n",
       "        </tr>\n",
       "        <tr>\n",
       "            <td>4</td>\n",
       "            <td>Martin</td>\n",
       "            <td>Crowe</td>\n",
       "            <td>Operations</td>\n",
       "            <td>40000</td>\n",
       "            <td>2021-02-18</td>\n",
       "            <td>1</td>\n",
       "        </tr>\n",
       "        <tr>\n",
       "            <td>5</td>\n",
       "            <td>Xaviers</td>\n",
       "            <td>Mark</td>\n",
       "            <td>Operations</td>\n",
       "            <td>60000</td>\n",
       "            <td>2021-12-20</td>\n",
       "            <td>2</td>\n",
       "        </tr>\n",
       "    </tbody>\n",
       "</table>"
      ],
      "text/plain": [
       "[(1, 'John', 'Doe', 'Sales', 50000, '2024-04-23', 5),\n",
       " (2, 'Subham', 'Samantray', 'Marketing', 30000, '2024-04-21', 4),\n",
       " (3, 'Aishwarya', 'Roy', 'Engineering', 70000, '2022-01-11', 3),\n",
       " (4, 'Martin', 'Crowe', 'Operations', 40000, '2021-02-18', 1),\n",
       " (5, 'Xaviers', 'Mark', 'Operations', 60000, '2021-12-20', 2)]"
      ]
     },
     "execution_count": 25,
     "metadata": {},
     "output_type": "execute_result"
    }
   ],
   "source": [
    "%%sql\n",
    "-- retrieving the first n employees from employees table\n",
    "\n",
    "SELECT * FROM employees\n",
    "LIMIT 5;"
   ]
  },
  {
   "cell_type": "code",
   "execution_count": 28,
   "metadata": {},
   "outputs": [
    {
     "name": "stdout",
     "output_type": "stream",
     "text": [
      " * sqlite:///sql-methods.db\n",
      "Done.\n"
     ]
    },
    {
     "data": {
      "text/html": [
       "<table>\n",
       "    <thead>\n",
       "        <tr>\n",
       "            <th>employee_id</th>\n",
       "            <th>first_name</th>\n",
       "            <th>last_name</th>\n",
       "            <th>department</th>\n",
       "            <th>salary</th>\n",
       "            <th>hire_date</th>\n",
       "            <th>performance_rating</th>\n",
       "        </tr>\n",
       "    </thead>\n",
       "    <tbody>\n",
       "        <tr>\n",
       "            <td>4</td>\n",
       "            <td>Martin</td>\n",
       "            <td>Crowe</td>\n",
       "            <td>Operations</td>\n",
       "            <td>40000</td>\n",
       "            <td>2021-02-18</td>\n",
       "            <td>1</td>\n",
       "        </tr>\n",
       "        <tr>\n",
       "            <td>5</td>\n",
       "            <td>Xaviers</td>\n",
       "            <td>Mark</td>\n",
       "            <td>Operations</td>\n",
       "            <td>60000</td>\n",
       "            <td>2021-12-20</td>\n",
       "            <td>2</td>\n",
       "        </tr>\n",
       "        <tr>\n",
       "            <td>6</td>\n",
       "            <td>John</td>\n",
       "            <td>Doe</td>\n",
       "            <td>Purchase</td>\n",
       "            <td>55000</td>\n",
       "            <td>2024-04-21</td>\n",
       "            <td>5</td>\n",
       "        </tr>\n",
       "        <tr>\n",
       "            <td>7</td>\n",
       "            <td>Subham</td>\n",
       "            <td>Samantray</td>\n",
       "            <td>Examinations</td>\n",
       "            <td>35000</td>\n",
       "            <td>2024-03-20</td>\n",
       "            <td>5</td>\n",
       "        </tr>\n",
       "    </tbody>\n",
       "</table>"
      ],
      "text/plain": [
       "[(4, 'Martin', 'Crowe', 'Operations', 40000, '2021-02-18', 1),\n",
       " (5, 'Xaviers', 'Mark', 'Operations', 60000, '2021-12-20', 2),\n",
       " (6, 'John', 'Doe', 'Purchase', 55000, '2024-04-21', 5),\n",
       " (7, 'Subham', 'Samantray', 'Examinations', 35000, '2024-03-20', 5)]"
      ]
     },
     "execution_count": 28,
     "metadata": {},
     "output_type": "execute_result"
    }
   ],
   "source": [
    "%%sql\n",
    "-- LIMIT ( starting offset, how many rows to display)\n",
    "SELECT * FROM employees \n",
    "LIMIT 3,5;"
   ]
  },
  {
   "cell_type": "markdown",
   "metadata": {},
   "source": [
    "## COUNT\n",
    "The **COUNT** function is used to count the number of rows in a table or the number of rows matching a specific condition."
   ]
  },
  {
   "cell_type": "code",
   "execution_count": 29,
   "metadata": {},
   "outputs": [
    {
     "name": "stdout",
     "output_type": "stream",
     "text": [
      " * sqlite:///sql-methods.db\n",
      "Done.\n"
     ]
    },
    {
     "data": {
      "text/html": [
       "<table>\n",
       "    <thead>\n",
       "        <tr>\n",
       "            <th>COUNT (*)</th>\n",
       "        </tr>\n",
       "    </thead>\n",
       "    <tbody>\n",
       "        <tr>\n",
       "            <td>7</td>\n",
       "        </tr>\n",
       "    </tbody>\n",
       "</table>"
      ],
      "text/plain": [
       "[(7,)]"
      ]
     },
     "execution_count": 29,
     "metadata": {},
     "output_type": "execute_result"
    }
   ],
   "source": [
    "%%sql\n",
    "SELECT COUNT (*) FROM employees;"
   ]
  },
  {
   "cell_type": "code",
   "execution_count": 30,
   "metadata": {},
   "outputs": [
    {
     "name": "stdout",
     "output_type": "stream",
     "text": [
      " * sqlite:///sql-methods.db\n",
      "Done.\n"
     ]
    },
    {
     "data": {
      "text/html": [
       "<table>\n",
       "    <thead>\n",
       "        <tr>\n",
       "            <th>COUNT(DISTINCT department)</th>\n",
       "        </tr>\n",
       "    </thead>\n",
       "    <tbody>\n",
       "        <tr>\n",
       "            <td>6</td>\n",
       "        </tr>\n",
       "    </tbody>\n",
       "</table>"
      ],
      "text/plain": [
       "[(6,)]"
      ]
     },
     "execution_count": 30,
     "metadata": {},
     "output_type": "execute_result"
    }
   ],
   "source": [
    "%%sql\n",
    "SELECT COUNT(DISTINCT department) \n",
    "FROM employees;"
   ]
  },
  {
   "cell_type": "code",
   "execution_count": 31,
   "metadata": {},
   "outputs": [
    {
     "name": "stdout",
     "output_type": "stream",
     "text": [
      " * sqlite:///sql-methods.db\n",
      "Done.\n"
     ]
    },
    {
     "data": {
      "text/html": [
       "<table>\n",
       "    <thead>\n",
       "        <tr>\n",
       "            <th>COUNT(DISTINCT department)</th>\n",
       "            <th>COUNT()</th>\n",
       "        </tr>\n",
       "    </thead>\n",
       "    <tbody>\n",
       "        <tr>\n",
       "            <td>6</td>\n",
       "            <td>7</td>\n",
       "        </tr>\n",
       "    </tbody>\n",
       "</table>"
      ],
      "text/plain": [
       "[(6, 7)]"
      ]
     },
     "execution_count": 31,
     "metadata": {},
     "output_type": "execute_result"
    }
   ],
   "source": [
    "%%sql\n",
    "SELECT COUNT(DISTINCT department), COUNT() FROM employees;"
   ]
  },
  {
   "cell_type": "code",
   "execution_count": 33,
   "metadata": {},
   "outputs": [
    {
     "name": "stdout",
     "output_type": "stream",
     "text": [
      " * sqlite:///sql-methods.db\n",
      "Done.\n"
     ]
    },
    {
     "data": {
      "text/html": [
       "<table>\n",
       "    <thead>\n",
       "        <tr>\n",
       "            <th>COUNT (first_name)</th>\n",
       "        </tr>\n",
       "    </thead>\n",
       "    <tbody>\n",
       "        <tr>\n",
       "            <td>2</td>\n",
       "        </tr>\n",
       "    </tbody>\n",
       "</table>"
      ],
      "text/plain": [
       "[(2,)]"
      ]
     },
     "execution_count": 33,
     "metadata": {},
     "output_type": "execute_result"
    }
   ],
   "source": [
    "%%sql\n",
    "SELECT COUNT (first_name) FROM employees\n",
    "WHERE first_name ='Subham';"
   ]
  },
  {
   "cell_type": "markdown",
   "metadata": {},
   "source": [
    "# WHERE\n",
    "The **WHERE** clause is used to filter data retrieved from a database based on specific conditions.\n",
    "It allows you to narrow down your results to only include rows that meet certain criteria.\n",
    "> **Common Operators Used in WHERE Clause:**\n",
    "```\n",
    "Comparison Operators:\n",
    "  =: Equal to\n",
    "  !=: Not equal to\n",
    "  <: Less than\n",
    "  >: Greater than\n",
    "  <=: Less than or equal to\n",
    "  >=: Greater than or equal to\n",
    "Logical Operators:\n",
    "  AND: Used to combine multiple conditions where both must be true.\n",
    "  OR: Used to combine multiple conditions where at least one must be true.\n",
    "  NOT: Used to negate a condition.\n",
    "  \n",
    "Special Operators:\n",
    "  BETWEEN: Checks if a value falls within a specified range.\n",
    "  IN: Checks if a value belongs to a set of values.\n",
    "  LIKE: Used for pattern matching with wildcards.\n",
    "  ```"
   ]
  },
  {
   "cell_type": "code",
   "execution_count": 39,
   "metadata": {},
   "outputs": [
    {
     "name": "stdout",
     "output_type": "stream",
     "text": [
      " * sqlite:///sql-methods.db\n",
      "Done.\n",
      "Done.\n"
     ]
    },
    {
     "data": {
      "text/html": [
       "<table>\n",
       "    <thead>\n",
       "        <tr>\n",
       "            <th>employee_id</th>\n",
       "            <th>first_name</th>\n",
       "            <th>last_name</th>\n",
       "            <th>department</th>\n",
       "            <th>salary</th>\n",
       "            <th>hire_date</th>\n",
       "            <th>performance_rating</th>\n",
       "        </tr>\n",
       "    </thead>\n",
       "    <tbody>\n",
       "        <tr>\n",
       "            <td>1</td>\n",
       "            <td>John</td>\n",
       "            <td>Doe</td>\n",
       "            <td>Sales</td>\n",
       "            <td>50000</td>\n",
       "            <td>2024-04-23</td>\n",
       "            <td>5</td>\n",
       "        </tr>\n",
       "        <tr>\n",
       "            <td>2</td>\n",
       "            <td>Subham</td>\n",
       "            <td>Samantray</td>\n",
       "            <td>Marketing</td>\n",
       "            <td>30000</td>\n",
       "            <td>2024-04-21</td>\n",
       "            <td>4</td>\n",
       "        </tr>\n",
       "        <tr>\n",
       "            <td>3</td>\n",
       "            <td>Aishwarya</td>\n",
       "            <td>Roy</td>\n",
       "            <td>Engineering</td>\n",
       "            <td>70000</td>\n",
       "            <td>2022-01-11</td>\n",
       "            <td>3</td>\n",
       "        </tr>\n",
       "        <tr>\n",
       "            <td>6</td>\n",
       "            <td>John</td>\n",
       "            <td>Doe</td>\n",
       "            <td>Purchase</td>\n",
       "            <td>55000</td>\n",
       "            <td>2024-04-21</td>\n",
       "            <td>5</td>\n",
       "        </tr>\n",
       "        <tr>\n",
       "            <td>7</td>\n",
       "            <td>Subham</td>\n",
       "            <td>Samantray</td>\n",
       "            <td>Examinations</td>\n",
       "            <td>35000</td>\n",
       "            <td>2024-03-20</td>\n",
       "            <td>5</td>\n",
       "        </tr>\n",
       "    </tbody>\n",
       "</table>"
      ],
      "text/plain": [
       "[(1, 'John', 'Doe', 'Sales', 50000, '2024-04-23', 5),\n",
       " (2, 'Subham', 'Samantray', 'Marketing', 30000, '2024-04-21', 4),\n",
       " (3, 'Aishwarya', 'Roy', 'Engineering', 70000, '2022-01-11', 3),\n",
       " (6, 'John', 'Doe', 'Purchase', 55000, '2024-04-21', 5),\n",
       " (7, 'Subham', 'Samantray', 'Examinations', 35000, '2024-03-20', 5)]"
      ]
     },
     "execution_count": 39,
     "metadata": {},
     "output_type": "execute_result"
    }
   ],
   "source": [
    "%%sql\n",
    "SELECT * FROM employees\n",
    "WHERE department ='Operations';"
   ]
  },
  {
   "cell_type": "code",
   "execution_count": 36,
   "metadata": {},
   "outputs": [
    {
     "name": "stdout",
     "output_type": "stream",
     "text": [
      " * sqlite:///sql-methods.db\n",
      "Done.\n"
     ]
    },
    {
     "data": {
      "text/html": [
       "<table>\n",
       "    <thead>\n",
       "        <tr>\n",
       "            <th>employee_id</th>\n",
       "            <th>first_name</th>\n",
       "            <th>last_name</th>\n",
       "            <th>department</th>\n",
       "            <th>salary</th>\n",
       "            <th>hire_date</th>\n",
       "            <th>performance_rating</th>\n",
       "        </tr>\n",
       "    </thead>\n",
       "    <tbody>\n",
       "        <tr>\n",
       "            <td>1</td>\n",
       "            <td>John</td>\n",
       "            <td>Doe</td>\n",
       "            <td>Sales</td>\n",
       "            <td>50000</td>\n",
       "            <td>2024-04-23</td>\n",
       "            <td>5</td>\n",
       "        </tr>\n",
       "        <tr>\n",
       "            <td>2</td>\n",
       "            <td>Subham</td>\n",
       "            <td>Samantray</td>\n",
       "            <td>Marketing</td>\n",
       "            <td>30000</td>\n",
       "            <td>2024-04-21</td>\n",
       "            <td>4</td>\n",
       "        </tr>\n",
       "        <tr>\n",
       "            <td>3</td>\n",
       "            <td>Aishwarya</td>\n",
       "            <td>Roy</td>\n",
       "            <td>Engineering</td>\n",
       "            <td>70000</td>\n",
       "            <td>2022-01-11</td>\n",
       "            <td>3</td>\n",
       "        </tr>\n",
       "        <tr>\n",
       "            <td>6</td>\n",
       "            <td>John</td>\n",
       "            <td>Doe</td>\n",
       "            <td>Purchase</td>\n",
       "            <td>55000</td>\n",
       "            <td>2024-04-21</td>\n",
       "            <td>5</td>\n",
       "        </tr>\n",
       "        <tr>\n",
       "            <td>7</td>\n",
       "            <td>Subham</td>\n",
       "            <td>Samantray</td>\n",
       "            <td>Examinations</td>\n",
       "            <td>35000</td>\n",
       "            <td>2024-03-20</td>\n",
       "            <td>5</td>\n",
       "        </tr>\n",
       "    </tbody>\n",
       "</table>"
      ],
      "text/plain": [
       "[(1, 'John', 'Doe', 'Sales', 50000, '2024-04-23', 5),\n",
       " (2, 'Subham', 'Samantray', 'Marketing', 30000, '2024-04-21', 4),\n",
       " (3, 'Aishwarya', 'Roy', 'Engineering', 70000, '2022-01-11', 3),\n",
       " (6, 'John', 'Doe', 'Purchase', 55000, '2024-04-21', 5),\n",
       " (7, 'Subham', 'Samantray', 'Examinations', 35000, '2024-03-20', 5)]"
      ]
     },
     "execution_count": 36,
     "metadata": {},
     "output_type": "execute_result"
    }
   ],
   "source": [
    "%%sql\n",
    "SELECT * FROM employees\n",
    "WHERE department !='Operations';"
   ]
  },
  {
   "cell_type": "code",
   "execution_count": 40,
   "metadata": {},
   "outputs": [
    {
     "name": "stdout",
     "output_type": "stream",
     "text": [
      " * sqlite:///sql-methods.db\n",
      "Done.\n"
     ]
    },
    {
     "data": {
      "text/html": [
       "<table>\n",
       "    <thead>\n",
       "        <tr>\n",
       "            <th>employee_id</th>\n",
       "            <th>first_name</th>\n",
       "            <th>last_name</th>\n",
       "            <th>department</th>\n",
       "            <th>salary</th>\n",
       "            <th>hire_date</th>\n",
       "            <th>performance_rating</th>\n",
       "        </tr>\n",
       "    </thead>\n",
       "    <tbody>\n",
       "        <tr>\n",
       "            <td>4</td>\n",
       "            <td>Martin</td>\n",
       "            <td>Crowe</td>\n",
       "            <td>Operations</td>\n",
       "            <td>40000</td>\n",
       "            <td>2021-02-18</td>\n",
       "            <td>1</td>\n",
       "        </tr>\n",
       "        <tr>\n",
       "            <td>5</td>\n",
       "            <td>Xaviers</td>\n",
       "            <td>Mark</td>\n",
       "            <td>Operations</td>\n",
       "            <td>60000</td>\n",
       "            <td>2021-12-20</td>\n",
       "            <td>2</td>\n",
       "        </tr>\n",
       "    </tbody>\n",
       "</table>"
      ],
      "text/plain": [
       "[(4, 'Martin', 'Crowe', 'Operations', 40000, '2021-02-18', 1),\n",
       " (5, 'Xaviers', 'Mark', 'Operations', 60000, '2021-12-20', 2)]"
      ]
     },
     "execution_count": 40,
     "metadata": {},
     "output_type": "execute_result"
    }
   ],
   "source": [
    "%%sql\n",
    "-- Using the less than sign\n",
    "SELECT * FROM employees\n",
    "WHERE performance_rating < 3;"
   ]
  },
  {
   "cell_type": "code",
   "execution_count": 41,
   "metadata": {},
   "outputs": [
    {
     "name": "stdout",
     "output_type": "stream",
     "text": [
      " * sqlite:///sql-methods.db\n",
      "Done.\n"
     ]
    },
    {
     "data": {
      "text/html": [
       "<table>\n",
       "    <thead>\n",
       "        <tr>\n",
       "            <th>employee_id</th>\n",
       "            <th>first_name</th>\n",
       "            <th>last_name</th>\n",
       "            <th>department</th>\n",
       "            <th>salary</th>\n",
       "            <th>hire_date</th>\n",
       "            <th>performance_rating</th>\n",
       "        </tr>\n",
       "    </thead>\n",
       "    <tbody>\n",
       "        <tr>\n",
       "            <td>1</td>\n",
       "            <td>John</td>\n",
       "            <td>Doe</td>\n",
       "            <td>Sales</td>\n",
       "            <td>50000</td>\n",
       "            <td>2024-04-23</td>\n",
       "            <td>5</td>\n",
       "        </tr>\n",
       "        <tr>\n",
       "            <td>2</td>\n",
       "            <td>Subham</td>\n",
       "            <td>Samantray</td>\n",
       "            <td>Marketing</td>\n",
       "            <td>30000</td>\n",
       "            <td>2024-04-21</td>\n",
       "            <td>4</td>\n",
       "        </tr>\n",
       "        <tr>\n",
       "            <td>6</td>\n",
       "            <td>John</td>\n",
       "            <td>Doe</td>\n",
       "            <td>Purchase</td>\n",
       "            <td>55000</td>\n",
       "            <td>2024-04-21</td>\n",
       "            <td>5</td>\n",
       "        </tr>\n",
       "        <tr>\n",
       "            <td>7</td>\n",
       "            <td>Subham</td>\n",
       "            <td>Samantray</td>\n",
       "            <td>Examinations</td>\n",
       "            <td>35000</td>\n",
       "            <td>2024-03-20</td>\n",
       "            <td>5</td>\n",
       "        </tr>\n",
       "    </tbody>\n",
       "</table>"
      ],
      "text/plain": [
       "[(1, 'John', 'Doe', 'Sales', 50000, '2024-04-23', 5),\n",
       " (2, 'Subham', 'Samantray', 'Marketing', 30000, '2024-04-21', 4),\n",
       " (6, 'John', 'Doe', 'Purchase', 55000, '2024-04-21', 5),\n",
       " (7, 'Subham', 'Samantray', 'Examinations', 35000, '2024-03-20', 5)]"
      ]
     },
     "execution_count": 41,
     "metadata": {},
     "output_type": "execute_result"
    }
   ],
   "source": [
    "%%sql\n",
    "-- Using the greater than sign\n",
    "SELECT * FROM employees\n",
    "WHERE performance_rating > 3;"
   ]
  },
  {
   "cell_type": "code",
   "execution_count": 42,
   "metadata": {},
   "outputs": [
    {
     "name": "stdout",
     "output_type": "stream",
     "text": [
      " * sqlite:///sql-methods.db\n",
      "Done.\n"
     ]
    },
    {
     "data": {
      "text/html": [
       "<table>\n",
       "    <thead>\n",
       "        <tr>\n",
       "            <th>employee_id</th>\n",
       "            <th>first_name</th>\n",
       "            <th>last_name</th>\n",
       "            <th>department</th>\n",
       "            <th>salary</th>\n",
       "            <th>hire_date</th>\n",
       "            <th>performance_rating</th>\n",
       "        </tr>\n",
       "    </thead>\n",
       "    <tbody>\n",
       "        <tr>\n",
       "            <td>3</td>\n",
       "            <td>Aishwarya</td>\n",
       "            <td>Roy</td>\n",
       "            <td>Engineering</td>\n",
       "            <td>70000</td>\n",
       "            <td>2022-01-11</td>\n",
       "            <td>3</td>\n",
       "        </tr>\n",
       "        <tr>\n",
       "            <td>4</td>\n",
       "            <td>Martin</td>\n",
       "            <td>Crowe</td>\n",
       "            <td>Operations</td>\n",
       "            <td>40000</td>\n",
       "            <td>2021-02-18</td>\n",
       "            <td>1</td>\n",
       "        </tr>\n",
       "        <tr>\n",
       "            <td>5</td>\n",
       "            <td>Xaviers</td>\n",
       "            <td>Mark</td>\n",
       "            <td>Operations</td>\n",
       "            <td>60000</td>\n",
       "            <td>2021-12-20</td>\n",
       "            <td>2</td>\n",
       "        </tr>\n",
       "    </tbody>\n",
       "</table>"
      ],
      "text/plain": [
       "[(3, 'Aishwarya', 'Roy', 'Engineering', 70000, '2022-01-11', 3),\n",
       " (4, 'Martin', 'Crowe', 'Operations', 40000, '2021-02-18', 1),\n",
       " (5, 'Xaviers', 'Mark', 'Operations', 60000, '2021-12-20', 2)]"
      ]
     },
     "execution_count": 42,
     "metadata": {},
     "output_type": "execute_result"
    }
   ],
   "source": [
    "%%sql\n",
    "-- Using the less than equal to sign\n",
    "SELECT * FROM employees\n",
    "WHERE performance_rating <= 3;"
   ]
  },
  {
   "cell_type": "code",
   "execution_count": 43,
   "metadata": {},
   "outputs": [
    {
     "name": "stdout",
     "output_type": "stream",
     "text": [
      " * sqlite:///sql-methods.db\n",
      "Done.\n"
     ]
    },
    {
     "data": {
      "text/html": [
       "<table>\n",
       "    <thead>\n",
       "        <tr>\n",
       "            <th>employee_id</th>\n",
       "            <th>first_name</th>\n",
       "            <th>last_name</th>\n",
       "            <th>department</th>\n",
       "            <th>salary</th>\n",
       "            <th>hire_date</th>\n",
       "            <th>performance_rating</th>\n",
       "        </tr>\n",
       "    </thead>\n",
       "    <tbody>\n",
       "        <tr>\n",
       "            <td>1</td>\n",
       "            <td>John</td>\n",
       "            <td>Doe</td>\n",
       "            <td>Sales</td>\n",
       "            <td>50000</td>\n",
       "            <td>2024-04-23</td>\n",
       "            <td>5</td>\n",
       "        </tr>\n",
       "        <tr>\n",
       "            <td>2</td>\n",
       "            <td>Subham</td>\n",
       "            <td>Samantray</td>\n",
       "            <td>Marketing</td>\n",
       "            <td>30000</td>\n",
       "            <td>2024-04-21</td>\n",
       "            <td>4</td>\n",
       "        </tr>\n",
       "        <tr>\n",
       "            <td>3</td>\n",
       "            <td>Aishwarya</td>\n",
       "            <td>Roy</td>\n",
       "            <td>Engineering</td>\n",
       "            <td>70000</td>\n",
       "            <td>2022-01-11</td>\n",
       "            <td>3</td>\n",
       "        </tr>\n",
       "        <tr>\n",
       "            <td>6</td>\n",
       "            <td>John</td>\n",
       "            <td>Doe</td>\n",
       "            <td>Purchase</td>\n",
       "            <td>55000</td>\n",
       "            <td>2024-04-21</td>\n",
       "            <td>5</td>\n",
       "        </tr>\n",
       "        <tr>\n",
       "            <td>7</td>\n",
       "            <td>Subham</td>\n",
       "            <td>Samantray</td>\n",
       "            <td>Examinations</td>\n",
       "            <td>35000</td>\n",
       "            <td>2024-03-20</td>\n",
       "            <td>5</td>\n",
       "        </tr>\n",
       "    </tbody>\n",
       "</table>"
      ],
      "text/plain": [
       "[(1, 'John', 'Doe', 'Sales', 50000, '2024-04-23', 5),\n",
       " (2, 'Subham', 'Samantray', 'Marketing', 30000, '2024-04-21', 4),\n",
       " (3, 'Aishwarya', 'Roy', 'Engineering', 70000, '2022-01-11', 3),\n",
       " (6, 'John', 'Doe', 'Purchase', 55000, '2024-04-21', 5),\n",
       " (7, 'Subham', 'Samantray', 'Examinations', 35000, '2024-03-20', 5)]"
      ]
     },
     "execution_count": 43,
     "metadata": {},
     "output_type": "execute_result"
    }
   ],
   "source": [
    "%%sql\n",
    "-- Using the greater than equal to sign\n",
    "SELECT * FROM employees\n",
    "WHERE performance_rating >= 3;"
   ]
  },
  {
   "cell_type": "code",
   "execution_count": 44,
   "metadata": {},
   "outputs": [
    {
     "name": "stdout",
     "output_type": "stream",
     "text": [
      " * sqlite:///sql-methods.db\n",
      "Done.\n",
      "Done.\n",
      "Done.\n",
      "Done.\n",
      "Done.\n",
      "Done.\n"
     ]
    },
    {
     "data": {
      "text/html": [
       "<table>\n",
       "    <thead>\n",
       "        <tr>\n",
       "            <th>employee_id</th>\n",
       "            <th>first_name</th>\n",
       "            <th>last_name</th>\n",
       "            <th>department</th>\n",
       "            <th>salary</th>\n",
       "            <th>hire_date</th>\n",
       "            <th>performance_rating</th>\n",
       "        </tr>\n",
       "    </thead>\n",
       "    <tbody>\n",
       "        <tr>\n",
       "            <td>1</td>\n",
       "            <td>John</td>\n",
       "            <td>Doe</td>\n",
       "            <td>Sales</td>\n",
       "            <td>50000</td>\n",
       "            <td>2024-04-23</td>\n",
       "            <td>5</td>\n",
       "        </tr>\n",
       "        <tr>\n",
       "            <td>2</td>\n",
       "            <td>Subham</td>\n",
       "            <td>Samantray</td>\n",
       "            <td>Marketing</td>\n",
       "            <td>30000</td>\n",
       "            <td>2024-04-21</td>\n",
       "            <td>4</td>\n",
       "        </tr>\n",
       "        <tr>\n",
       "            <td>3</td>\n",
       "            <td>Aishwarya</td>\n",
       "            <td>Roy</td>\n",
       "            <td>Engineering</td>\n",
       "            <td>70000</td>\n",
       "            <td>2022-01-11</td>\n",
       "            <td>3</td>\n",
       "        </tr>\n",
       "        <tr>\n",
       "            <td>6</td>\n",
       "            <td>John</td>\n",
       "            <td>Doe</td>\n",
       "            <td>Purchase</td>\n",
       "            <td>55000</td>\n",
       "            <td>2024-04-21</td>\n",
       "            <td>5</td>\n",
       "        </tr>\n",
       "        <tr>\n",
       "            <td>7</td>\n",
       "            <td>Subham</td>\n",
       "            <td>Samantray</td>\n",
       "            <td>Examinations</td>\n",
       "            <td>35000</td>\n",
       "            <td>2024-03-20</td>\n",
       "            <td>5</td>\n",
       "        </tr>\n",
       "    </tbody>\n",
       "</table>"
      ],
      "text/plain": [
       "[(1, 'John', 'Doe', 'Sales', 50000, '2024-04-23', 5),\n",
       " (2, 'Subham', 'Samantray', 'Marketing', 30000, '2024-04-21', 4),\n",
       " (3, 'Aishwarya', 'Roy', 'Engineering', 70000, '2022-01-11', 3),\n",
       " (6, 'John', 'Doe', 'Purchase', 55000, '2024-04-21', 5),\n",
       " (7, 'Subham', 'Samantray', 'Examinations', 35000, '2024-03-20', 5)]"
      ]
     },
     "execution_count": 44,
     "metadata": {},
     "output_type": "execute_result"
    }
   ],
   "source": [
    "%%sql\n",
    "--using the equal sign\n",
    "SELECT * FROM employees\n",
    "WHERE department = 'Sales';\n",
    "--using the not equal sign\n",
    "SELECT * FROM employees\n",
    "WHERE department != 'Sales';\n",
    "--using the less than sign\n",
    "SELECT * FROM employees\n",
    "WHERE performance_rating < 3;\n",
    "--using the greater than sign\n",
    "SELECT * FROM employees\n",
    "WHERE performance_rating > 3;\n",
    "--using the less than or equal to sign\n",
    "SELECT * FROM employees\n",
    "WHERE performance_rating <= 3;\n",
    "--using the more than or equal to sign\n",
    "SELECT * FROM employees\n",
    "WHERE performance_rating >= 3;"
   ]
  },
  {
   "cell_type": "code",
   "execution_count": 45,
   "metadata": {},
   "outputs": [
    {
     "name": "stdout",
     "output_type": "stream",
     "text": [
      " * sqlite:///sql-methods.db\n",
      "Done.\n"
     ]
    },
    {
     "data": {
      "text/html": [
       "<table>\n",
       "    <thead>\n",
       "        <tr>\n",
       "            <th>employee_id</th>\n",
       "            <th>first_name</th>\n",
       "            <th>last_name</th>\n",
       "            <th>department</th>\n",
       "            <th>salary</th>\n",
       "            <th>hire_date</th>\n",
       "            <th>performance_rating</th>\n",
       "        </tr>\n",
       "    </thead>\n",
       "    <tbody>\n",
       "        <tr>\n",
       "            <td>1</td>\n",
       "            <td>John</td>\n",
       "            <td>Doe</td>\n",
       "            <td>Sales</td>\n",
       "            <td>50000</td>\n",
       "            <td>2024-04-23</td>\n",
       "            <td>5</td>\n",
       "        </tr>\n",
       "    </tbody>\n",
       "</table>"
      ],
      "text/plain": [
       "[(1, 'John', 'Doe', 'Sales', 50000, '2024-04-23', 5)]"
      ]
     },
     "execution_count": 45,
     "metadata": {},
     "output_type": "execute_result"
    }
   ],
   "source": [
    "%%sql\n",
    "-- Logical AND\n",
    "SELECT * FROM employees\n",
    "WHERE department ='Sales' AND performance_rating>3;"
   ]
  },
  {
   "cell_type": "code",
   "execution_count": 46,
   "metadata": {},
   "outputs": [
    {
     "name": "stdout",
     "output_type": "stream",
     "text": [
      " * sqlite:///sql-methods.db\n",
      "Done.\n"
     ]
    },
    {
     "data": {
      "text/html": [
       "<table>\n",
       "    <thead>\n",
       "        <tr>\n",
       "            <th>employee_id</th>\n",
       "            <th>first_name</th>\n",
       "            <th>last_name</th>\n",
       "            <th>department</th>\n",
       "            <th>salary</th>\n",
       "            <th>hire_date</th>\n",
       "            <th>performance_rating</th>\n",
       "        </tr>\n",
       "    </thead>\n",
       "    <tbody>\n",
       "        <tr>\n",
       "            <td>2</td>\n",
       "            <td>Subham</td>\n",
       "            <td>Samantray</td>\n",
       "            <td>Marketing</td>\n",
       "            <td>30000</td>\n",
       "            <td>2024-04-21</td>\n",
       "            <td>4</td>\n",
       "        </tr>\n",
       "        <tr>\n",
       "            <td>4</td>\n",
       "            <td>Martin</td>\n",
       "            <td>Crowe</td>\n",
       "            <td>Operations</td>\n",
       "            <td>40000</td>\n",
       "            <td>2021-02-18</td>\n",
       "            <td>1</td>\n",
       "        </tr>\n",
       "        <tr>\n",
       "            <td>5</td>\n",
       "            <td>Xaviers</td>\n",
       "            <td>Mark</td>\n",
       "            <td>Operations</td>\n",
       "            <td>60000</td>\n",
       "            <td>2021-12-20</td>\n",
       "            <td>2</td>\n",
       "        </tr>\n",
       "    </tbody>\n",
       "</table>"
      ],
      "text/plain": [
       "[(2, 'Subham', 'Samantray', 'Marketing', 30000, '2024-04-21', 4),\n",
       " (4, 'Martin', 'Crowe', 'Operations', 40000, '2021-02-18', 1),\n",
       " (5, 'Xaviers', 'Mark', 'Operations', 60000, '2021-12-20', 2)]"
      ]
     },
     "execution_count": 46,
     "metadata": {},
     "output_type": "execute_result"
    }
   ],
   "source": [
    "%%sql\n",
    "-- Logical OR\n",
    "SELECT * FROM employees\n",
    "WHERE department ='Operations' OR department ='Marketing';"
   ]
  },
  {
   "cell_type": "code",
   "execution_count": 47,
   "metadata": {},
   "outputs": [
    {
     "name": "stdout",
     "output_type": "stream",
     "text": [
      " * sqlite:///sql-methods.db\n",
      "Done.\n"
     ]
    },
    {
     "data": {
      "text/html": [
       "<table>\n",
       "    <thead>\n",
       "        <tr>\n",
       "            <th>employee_id</th>\n",
       "            <th>first_name</th>\n",
       "            <th>last_name</th>\n",
       "            <th>department</th>\n",
       "            <th>salary</th>\n",
       "            <th>hire_date</th>\n",
       "            <th>performance_rating</th>\n",
       "        </tr>\n",
       "    </thead>\n",
       "    <tbody>\n",
       "        <tr>\n",
       "            <td>1</td>\n",
       "            <td>John</td>\n",
       "            <td>Doe</td>\n",
       "            <td>Sales</td>\n",
       "            <td>50000</td>\n",
       "            <td>2024-04-23</td>\n",
       "            <td>5</td>\n",
       "        </tr>\n",
       "        <tr>\n",
       "            <td>3</td>\n",
       "            <td>Aishwarya</td>\n",
       "            <td>Roy</td>\n",
       "            <td>Engineering</td>\n",
       "            <td>70000</td>\n",
       "            <td>2022-01-11</td>\n",
       "            <td>3</td>\n",
       "        </tr>\n",
       "        <tr>\n",
       "            <td>4</td>\n",
       "            <td>Martin</td>\n",
       "            <td>Crowe</td>\n",
       "            <td>Operations</td>\n",
       "            <td>40000</td>\n",
       "            <td>2021-02-18</td>\n",
       "            <td>1</td>\n",
       "        </tr>\n",
       "        <tr>\n",
       "            <td>5</td>\n",
       "            <td>Xaviers</td>\n",
       "            <td>Mark</td>\n",
       "            <td>Operations</td>\n",
       "            <td>60000</td>\n",
       "            <td>2021-12-20</td>\n",
       "            <td>2</td>\n",
       "        </tr>\n",
       "        <tr>\n",
       "            <td>6</td>\n",
       "            <td>John</td>\n",
       "            <td>Doe</td>\n",
       "            <td>Purchase</td>\n",
       "            <td>55000</td>\n",
       "            <td>2024-04-21</td>\n",
       "            <td>5</td>\n",
       "        </tr>\n",
       "        <tr>\n",
       "            <td>7</td>\n",
       "            <td>Subham</td>\n",
       "            <td>Samantray</td>\n",
       "            <td>Examinations</td>\n",
       "            <td>35000</td>\n",
       "            <td>2024-03-20</td>\n",
       "            <td>5</td>\n",
       "        </tr>\n",
       "    </tbody>\n",
       "</table>"
      ],
      "text/plain": [
       "[(1, 'John', 'Doe', 'Sales', 50000, '2024-04-23', 5),\n",
       " (3, 'Aishwarya', 'Roy', 'Engineering', 70000, '2022-01-11', 3),\n",
       " (4, 'Martin', 'Crowe', 'Operations', 40000, '2021-02-18', 1),\n",
       " (5, 'Xaviers', 'Mark', 'Operations', 60000, '2021-12-20', 2),\n",
       " (6, 'John', 'Doe', 'Purchase', 55000, '2024-04-21', 5),\n",
       " (7, 'Subham', 'Samantray', 'Examinations', 35000, '2024-03-20', 5)]"
      ]
     },
     "execution_count": 47,
     "metadata": {},
     "output_type": "execute_result"
    }
   ],
   "source": [
    "%%sql\n",
    "-- Logical NOT\n",
    "SELECT * FROM employees\n",
    "WHERE NOT department ='Marketing';"
   ]
  },
  {
   "cell_type": "code",
   "execution_count": 48,
   "metadata": {},
   "outputs": [
    {
     "name": "stdout",
     "output_type": "stream",
     "text": [
      " * sqlite:///sql-methods.db\n",
      "Done.\n",
      "Done.\n",
      "Done.\n"
     ]
    },
    {
     "data": {
      "text/html": [
       "<table>\n",
       "    <thead>\n",
       "        <tr>\n",
       "            <th>employee_id</th>\n",
       "            <th>first_name</th>\n",
       "            <th>last_name</th>\n",
       "            <th>department</th>\n",
       "            <th>salary</th>\n",
       "            <th>hire_date</th>\n",
       "            <th>performance_rating</th>\n",
       "        </tr>\n",
       "    </thead>\n",
       "    <tbody>\n",
       "        <tr>\n",
       "            <td>1</td>\n",
       "            <td>John</td>\n",
       "            <td>Doe</td>\n",
       "            <td>Sales</td>\n",
       "            <td>50000</td>\n",
       "            <td>2024-04-23</td>\n",
       "            <td>5</td>\n",
       "        </tr>\n",
       "        <tr>\n",
       "            <td>3</td>\n",
       "            <td>Aishwarya</td>\n",
       "            <td>Roy</td>\n",
       "            <td>Engineering</td>\n",
       "            <td>70000</td>\n",
       "            <td>2022-01-11</td>\n",
       "            <td>3</td>\n",
       "        </tr>\n",
       "        <tr>\n",
       "            <td>4</td>\n",
       "            <td>Martin</td>\n",
       "            <td>Crowe</td>\n",
       "            <td>Operations</td>\n",
       "            <td>40000</td>\n",
       "            <td>2021-02-18</td>\n",
       "            <td>1</td>\n",
       "        </tr>\n",
       "        <tr>\n",
       "            <td>5</td>\n",
       "            <td>Xaviers</td>\n",
       "            <td>Mark</td>\n",
       "            <td>Operations</td>\n",
       "            <td>60000</td>\n",
       "            <td>2021-12-20</td>\n",
       "            <td>2</td>\n",
       "        </tr>\n",
       "        <tr>\n",
       "            <td>6</td>\n",
       "            <td>John</td>\n",
       "            <td>Doe</td>\n",
       "            <td>Purchase</td>\n",
       "            <td>55000</td>\n",
       "            <td>2024-04-21</td>\n",
       "            <td>5</td>\n",
       "        </tr>\n",
       "        <tr>\n",
       "            <td>7</td>\n",
       "            <td>Subham</td>\n",
       "            <td>Samantray</td>\n",
       "            <td>Examinations</td>\n",
       "            <td>35000</td>\n",
       "            <td>2024-03-20</td>\n",
       "            <td>5</td>\n",
       "        </tr>\n",
       "    </tbody>\n",
       "</table>"
      ],
      "text/plain": [
       "[(1, 'John', 'Doe', 'Sales', 50000, '2024-04-23', 5),\n",
       " (3, 'Aishwarya', 'Roy', 'Engineering', 70000, '2022-01-11', 3),\n",
       " (4, 'Martin', 'Crowe', 'Operations', 40000, '2021-02-18', 1),\n",
       " (5, 'Xaviers', 'Mark', 'Operations', 60000, '2021-12-20', 2),\n",
       " (6, 'John', 'Doe', 'Purchase', 55000, '2024-04-21', 5),\n",
       " (7, 'Subham', 'Samantray', 'Examinations', 35000, '2024-03-20', 5)]"
      ]
     },
     "execution_count": 48,
     "metadata": {},
     "output_type": "execute_result"
    }
   ],
   "source": [
    "%%sql\n",
    "-- Logical AND\n",
    "SELECT * FROM employees\n",
    "WHERE department = 'Sales' AND performance_rating >= 3;\n",
    "-- Logical OR\n",
    "SELECT * FROM employees\n",
    "WHERE department = 'Operations' OR department = 'Marketing';\n",
    "-- Logical NOT\n",
    "SELECT * FROM employees\n",
    "WHERE NOT department = 'Marketing';"
   ]
  },
  {
   "cell_type": "code",
   "execution_count": 49,
   "metadata": {},
   "outputs": [
    {
     "name": "stdout",
     "output_type": "stream",
     "text": [
      " * sqlite:///sql-methods.db\n",
      "Done.\n"
     ]
    },
    {
     "data": {
      "text/html": [
       "<table>\n",
       "    <thead>\n",
       "        <tr>\n",
       "            <th>employee_id</th>\n",
       "            <th>first_name</th>\n",
       "            <th>last_name</th>\n",
       "            <th>department</th>\n",
       "            <th>salary</th>\n",
       "            <th>hire_date</th>\n",
       "            <th>performance_rating</th>\n",
       "        </tr>\n",
       "    </thead>\n",
       "    <tbody>\n",
       "        <tr>\n",
       "            <td>1</td>\n",
       "            <td>John</td>\n",
       "            <td>Doe</td>\n",
       "            <td>Sales</td>\n",
       "            <td>50000</td>\n",
       "            <td>2024-04-23</td>\n",
       "            <td>5</td>\n",
       "        </tr>\n",
       "        <tr>\n",
       "            <td>5</td>\n",
       "            <td>Xaviers</td>\n",
       "            <td>Mark</td>\n",
       "            <td>Operations</td>\n",
       "            <td>60000</td>\n",
       "            <td>2021-12-20</td>\n",
       "            <td>2</td>\n",
       "        </tr>\n",
       "        <tr>\n",
       "            <td>6</td>\n",
       "            <td>John</td>\n",
       "            <td>Doe</td>\n",
       "            <td>Purchase</td>\n",
       "            <td>55000</td>\n",
       "            <td>2024-04-21</td>\n",
       "            <td>5</td>\n",
       "        </tr>\n",
       "    </tbody>\n",
       "</table>"
      ],
      "text/plain": [
       "[(1, 'John', 'Doe', 'Sales', 50000, '2024-04-23', 5),\n",
       " (5, 'Xaviers', 'Mark', 'Operations', 60000, '2021-12-20', 2),\n",
       " (6, 'John', 'Doe', 'Purchase', 55000, '2024-04-21', 5)]"
      ]
     },
     "execution_count": 49,
     "metadata": {},
     "output_type": "execute_result"
    }
   ],
   "source": [
    "%%sql\n",
    "-- BETWEEN\n",
    "SELECT * FROM employees\n",
    "WHERE salary BETWEEN 50000 AND 60000;"
   ]
  },
  {
   "cell_type": "code",
   "execution_count": 51,
   "metadata": {},
   "outputs": [
    {
     "name": "stdout",
     "output_type": "stream",
     "text": [
      " * sqlite:///sql-methods.db\n",
      "Done.\n"
     ]
    },
    {
     "data": {
      "text/html": [
       "<table>\n",
       "    <thead>\n",
       "        <tr>\n",
       "            <th>employee_id</th>\n",
       "            <th>first_name</th>\n",
       "            <th>last_name</th>\n",
       "            <th>department</th>\n",
       "            <th>salary</th>\n",
       "            <th>hire_date</th>\n",
       "            <th>performance_rating</th>\n",
       "        </tr>\n",
       "    </thead>\n",
       "    <tbody>\n",
       "        <tr>\n",
       "            <td>1</td>\n",
       "            <td>John</td>\n",
       "            <td>Doe</td>\n",
       "            <td>Sales</td>\n",
       "            <td>50000</td>\n",
       "            <td>2024-04-23</td>\n",
       "            <td>5</td>\n",
       "        </tr>\n",
       "        <tr>\n",
       "            <td>4</td>\n",
       "            <td>Martin</td>\n",
       "            <td>Crowe</td>\n",
       "            <td>Operations</td>\n",
       "            <td>40000</td>\n",
       "            <td>2021-02-18</td>\n",
       "            <td>1</td>\n",
       "        </tr>\n",
       "        <tr>\n",
       "            <td>6</td>\n",
       "            <td>John</td>\n",
       "            <td>Doe</td>\n",
       "            <td>Purchase</td>\n",
       "            <td>55000</td>\n",
       "            <td>2024-04-21</td>\n",
       "            <td>5</td>\n",
       "        </tr>\n",
       "    </tbody>\n",
       "</table>"
      ],
      "text/plain": [
       "[(1, 'John', 'Doe', 'Sales', 50000, '2024-04-23', 5),\n",
       " (4, 'Martin', 'Crowe', 'Operations', 40000, '2021-02-18', 1),\n",
       " (6, 'John', 'Doe', 'Purchase', 55000, '2024-04-21', 5)]"
      ]
     },
     "execution_count": 51,
     "metadata": {},
     "output_type": "execute_result"
    }
   ],
   "source": [
    "%%sql\n",
    "--IN is similar to = but it will allow you to select multiple values\n",
    "SELECT * FROM employees\n",
    "WHERE first_name IN ('John', 'Martin');"
   ]
  },
  {
   "cell_type": "code",
   "execution_count": 56,
   "metadata": {},
   "outputs": [
    {
     "name": "stdout",
     "output_type": "stream",
     "text": [
      " * sqlite:///sql-methods.db\n",
      "Done.\n"
     ]
    },
    {
     "data": {
      "text/html": [
       "<table>\n",
       "    <thead>\n",
       "        <tr>\n",
       "            <th>employee_id</th>\n",
       "            <th>first_name</th>\n",
       "            <th>last_name</th>\n",
       "            <th>department</th>\n",
       "            <th>salary</th>\n",
       "            <th>hire_date</th>\n",
       "            <th>performance_rating</th>\n",
       "        </tr>\n",
       "    </thead>\n",
       "    <tbody>\n",
       "        <tr>\n",
       "            <td>1</td>\n",
       "            <td>John</td>\n",
       "            <td>Doe</td>\n",
       "            <td>Sales</td>\n",
       "            <td>50000</td>\n",
       "            <td>2024-04-23</td>\n",
       "            <td>5</td>\n",
       "        </tr>\n",
       "        <tr>\n",
       "            <td>6</td>\n",
       "            <td>John</td>\n",
       "            <td>Doe</td>\n",
       "            <td>Purchase</td>\n",
       "            <td>55000</td>\n",
       "            <td>2024-04-21</td>\n",
       "            <td>5</td>\n",
       "        </tr>\n",
       "    </tbody>\n",
       "</table>"
      ],
      "text/plain": [
       "[(1, 'John', 'Doe', 'Sales', 50000, '2024-04-23', 5),\n",
       " (6, 'John', 'Doe', 'Purchase', 55000, '2024-04-21', 5)]"
      ]
     },
     "execution_count": 56,
     "metadata": {},
     "output_type": "execute_result"
    }
   ],
   "source": [
    "%%sql\n",
    "--LIKE (useful for data navigation)\n",
    "-- ending substring\n",
    "SELECT * FROM employees\n",
    "WHERE last_name LIKE '%Doe';"
   ]
  },
  {
   "cell_type": "code",
   "execution_count": 58,
   "metadata": {},
   "outputs": [
    {
     "name": "stdout",
     "output_type": "stream",
     "text": [
      " * sqlite:///sql-methods.db\n",
      "Done.\n"
     ]
    },
    {
     "data": {
      "text/html": [
       "<table>\n",
       "    <thead>\n",
       "        <tr>\n",
       "            <th>employee_id</th>\n",
       "            <th>first_name</th>\n",
       "            <th>last_name</th>\n",
       "            <th>department</th>\n",
       "            <th>salary</th>\n",
       "            <th>hire_date</th>\n",
       "            <th>performance_rating</th>\n",
       "        </tr>\n",
       "    </thead>\n",
       "    <tbody>\n",
       "        <tr>\n",
       "            <td>1</td>\n",
       "            <td>John</td>\n",
       "            <td>Doe</td>\n",
       "            <td>Sales</td>\n",
       "            <td>50000</td>\n",
       "            <td>2024-04-23</td>\n",
       "            <td>5</td>\n",
       "        </tr>\n",
       "        <tr>\n",
       "            <td>6</td>\n",
       "            <td>John</td>\n",
       "            <td>Doe</td>\n",
       "            <td>Purchase</td>\n",
       "            <td>55000</td>\n",
       "            <td>2024-04-21</td>\n",
       "            <td>5</td>\n",
       "        </tr>\n",
       "    </tbody>\n",
       "</table>"
      ],
      "text/plain": [
       "[(1, 'John', 'Doe', 'Sales', 50000, '2024-04-23', 5),\n",
       " (6, 'John', 'Doe', 'Purchase', 55000, '2024-04-21', 5)]"
      ]
     },
     "execution_count": 58,
     "metadata": {},
     "output_type": "execute_result"
    }
   ],
   "source": [
    "%%sql\n",
    "--LIKE (useful for data navigation)\n",
    "-- starting substring\n",
    "SELECT * FROM employees\n",
    "WHERE first_name LIKE 'J%';"
   ]
  },
  {
   "cell_type": "code",
   "execution_count": 59,
   "metadata": {},
   "outputs": [
    {
     "name": "stdout",
     "output_type": "stream",
     "text": [
      " * sqlite:///sql-methods.db\n",
      "Done.\n"
     ]
    },
    {
     "data": {
      "text/html": [
       "<table>\n",
       "    <thead>\n",
       "        <tr>\n",
       "            <th>employee_id</th>\n",
       "            <th>first_name</th>\n",
       "            <th>last_name</th>\n",
       "            <th>department</th>\n",
       "            <th>salary</th>\n",
       "            <th>hire_date</th>\n",
       "            <th>performance_rating</th>\n",
       "        </tr>\n",
       "    </thead>\n",
       "    <tbody>\n",
       "        <tr>\n",
       "            <td>3</td>\n",
       "            <td>Aishwarya</td>\n",
       "            <td>Roy</td>\n",
       "            <td>Engineering</td>\n",
       "            <td>70000</td>\n",
       "            <td>2022-01-11</td>\n",
       "            <td>3</td>\n",
       "        </tr>\n",
       "    </tbody>\n",
       "</table>"
      ],
      "text/plain": [
       "[(3, 'Aishwarya', 'Roy', 'Engineering', 70000, '2022-01-11', 3)]"
      ]
     },
     "execution_count": 59,
     "metadata": {},
     "output_type": "execute_result"
    }
   ],
   "source": [
    "%%sql\n",
    "--LIKE (useful for data navigation)\n",
    "-- containing\n",
    "SELECT * FROM employees\n",
    "WHERE first_name LIKE '%war%';"
   ]
  },
  {
   "cell_type": "code",
   "execution_count": 60,
   "metadata": {},
   "outputs": [
    {
     "name": "stdout",
     "output_type": "stream",
     "text": [
      " * sqlite:///sql-methods.db\n",
      "Done.\n",
      "Done.\n",
      "Done.\n",
      "Done.\n",
      "Done.\n"
     ]
    },
    {
     "data": {
      "text/html": [
       "<table>\n",
       "    <thead>\n",
       "        <tr>\n",
       "            <th>employee_id</th>\n",
       "            <th>first_name</th>\n",
       "            <th>last_name</th>\n",
       "            <th>department</th>\n",
       "            <th>salary</th>\n",
       "            <th>hire_date</th>\n",
       "            <th>performance_rating</th>\n",
       "        </tr>\n",
       "    </thead>\n",
       "    <tbody>\n",
       "        <tr>\n",
       "            <td>3</td>\n",
       "            <td>Aishwarya</td>\n",
       "            <td>Roy</td>\n",
       "            <td>Engineering</td>\n",
       "            <td>70000</td>\n",
       "            <td>2022-01-11</td>\n",
       "            <td>3</td>\n",
       "        </tr>\n",
       "    </tbody>\n",
       "</table>"
      ],
      "text/plain": [
       "[(3, 'Aishwarya', 'Roy', 'Engineering', 70000, '2022-01-11', 3)]"
      ]
     },
     "execution_count": 60,
     "metadata": {},
     "output_type": "execute_result"
    }
   ],
   "source": [
    "%%sql\n",
    "--BETWEEN\n",
    "SELECT * FROM employees\n",
    "WHERE salary BETWEEN 50000 AND 60000;\n",
    "--IN (similar to = but it will allow you to select multiple values)\n",
    "SELECT * FROM employees\n",
    "WHERE first_name IN ('John', 'Martin');\n",
    "--LIKE (useful for data navigation)\n",
    "--ending substring\n",
    "SELECT * FROM employees\n",
    "WHERE last_name LIKE '%Doe';\n",
    "--starting substring\n",
    "SELECT * FROM employees\n",
    "WHERE first_name LIKE 'j%';\n",
    "--containing\n",
    "SELECT * FROM employees\n",
    "WHERE first_name LIKE '%war%';"
   ]
  },
  {
   "cell_type": "code",
   "execution_count": 61,
   "metadata": {},
   "outputs": [
    {
     "name": "stdout",
     "output_type": "stream",
     "text": [
      " * sqlite:///sql-methods.db\n",
      "Done.\n",
      "Done.\n",
      "Done.\n",
      "Done.\n",
      "Done.\n"
     ]
    },
    {
     "data": {
      "text/html": [
       "<table>\n",
       "    <thead>\n",
       "        <tr>\n",
       "            <th>employee_id</th>\n",
       "            <th>first_name</th>\n",
       "            <th>last_name</th>\n",
       "            <th>department</th>\n",
       "            <th>salary</th>\n",
       "            <th>hire_date</th>\n",
       "            <th>performance_rating</th>\n",
       "        </tr>\n",
       "    </thead>\n",
       "    <tbody>\n",
       "        <tr>\n",
       "            <td>3</td>\n",
       "            <td>Aishwarya</td>\n",
       "            <td>Roy</td>\n",
       "            <td>Engineering</td>\n",
       "            <td>70000</td>\n",
       "            <td>2022-01-11</td>\n",
       "            <td>3</td>\n",
       "        </tr>\n",
       "    </tbody>\n",
       "</table>"
      ],
      "text/plain": [
       "[(3, 'Aishwarya', 'Roy', 'Engineering', 70000, '2022-01-11', 3)]"
      ]
     },
     "execution_count": 61,
     "metadata": {},
     "output_type": "execute_result"
    }
   ],
   "source": [
    "%%sql\n",
    "--BETWEEN\n",
    "SELECT * FROM employees\n",
    "WHERE salary BETWEEN 50000 AND 60000;\n",
    "--IN (similar to = but it will allow you to select multiple values)\n",
    "SELECT * FROM employees\n",
    "WHERE first_name IN ('John', 'Daniel');\n",
    "--LIKE (useful for data navigation) \n",
    "-- '%son' - ending substring\n",
    "SELECT * FROM employees\n",
    "WHERE last_name LIKE '%son';\n",
    "--'j%' - starting substring\n",
    "SELECT * FROM employees\n",
    "WHERE first_name LIKE 'j%';\n",
    "--'%war%' - containing\n",
    "SELECT * FROM employees\n",
    "WHERE first_name LIKE '%war%';"
   ]
  },
  {
   "cell_type": "markdown",
   "metadata": {},
   "source": [
    "## ORDER BY\n",
    "The **ORDER BY** clause allows you to sort the results of your SELECT queries in either ascending or descending order. It lets you sort the retrieved data based on one or more columns, making it easier to analyze and interpret.\n",
    "  * **ASC:** Ascending order (lowest to highest).\n",
    "  * **DESC:** Descending order (highest to lowest)."
   ]
  },
  {
   "cell_type": "code",
   "execution_count": 62,
   "metadata": {},
   "outputs": [
    {
     "name": "stdout",
     "output_type": "stream",
     "text": [
      " * sqlite:///sql-methods.db\n",
      "Done.\n"
     ]
    },
    {
     "data": {
      "text/html": [
       "<table>\n",
       "    <thead>\n",
       "        <tr>\n",
       "            <th>employee_id</th>\n",
       "            <th>first_name</th>\n",
       "            <th>last_name</th>\n",
       "            <th>department</th>\n",
       "            <th>salary</th>\n",
       "            <th>hire_date</th>\n",
       "            <th>performance_rating</th>\n",
       "        </tr>\n",
       "    </thead>\n",
       "    <tbody>\n",
       "        <tr>\n",
       "            <td>4</td>\n",
       "            <td>Martin</td>\n",
       "            <td>Crowe</td>\n",
       "            <td>Operations</td>\n",
       "            <td>40000</td>\n",
       "            <td>2021-02-18</td>\n",
       "            <td>1</td>\n",
       "        </tr>\n",
       "        <tr>\n",
       "            <td>1</td>\n",
       "            <td>John</td>\n",
       "            <td>Doe</td>\n",
       "            <td>Sales</td>\n",
       "            <td>50000</td>\n",
       "            <td>2024-04-23</td>\n",
       "            <td>5</td>\n",
       "        </tr>\n",
       "        <tr>\n",
       "            <td>6</td>\n",
       "            <td>John</td>\n",
       "            <td>Doe</td>\n",
       "            <td>Purchase</td>\n",
       "            <td>55000</td>\n",
       "            <td>2024-04-21</td>\n",
       "            <td>5</td>\n",
       "        </tr>\n",
       "        <tr>\n",
       "            <td>5</td>\n",
       "            <td>Xaviers</td>\n",
       "            <td>Mark</td>\n",
       "            <td>Operations</td>\n",
       "            <td>60000</td>\n",
       "            <td>2021-12-20</td>\n",
       "            <td>2</td>\n",
       "        </tr>\n",
       "        <tr>\n",
       "            <td>3</td>\n",
       "            <td>Aishwarya</td>\n",
       "            <td>Roy</td>\n",
       "            <td>Engineering</td>\n",
       "            <td>70000</td>\n",
       "            <td>2022-01-11</td>\n",
       "            <td>3</td>\n",
       "        </tr>\n",
       "        <tr>\n",
       "            <td>2</td>\n",
       "            <td>Subham</td>\n",
       "            <td>Samantray</td>\n",
       "            <td>Marketing</td>\n",
       "            <td>30000</td>\n",
       "            <td>2024-04-21</td>\n",
       "            <td>4</td>\n",
       "        </tr>\n",
       "        <tr>\n",
       "            <td>7</td>\n",
       "            <td>Subham</td>\n",
       "            <td>Samantray</td>\n",
       "            <td>Examinations</td>\n",
       "            <td>35000</td>\n",
       "            <td>2024-03-20</td>\n",
       "            <td>5</td>\n",
       "        </tr>\n",
       "    </tbody>\n",
       "</table>"
      ],
      "text/plain": [
       "[(4, 'Martin', 'Crowe', 'Operations', 40000, '2021-02-18', 1),\n",
       " (1, 'John', 'Doe', 'Sales', 50000, '2024-04-23', 5),\n",
       " (6, 'John', 'Doe', 'Purchase', 55000, '2024-04-21', 5),\n",
       " (5, 'Xaviers', 'Mark', 'Operations', 60000, '2021-12-20', 2),\n",
       " (3, 'Aishwarya', 'Roy', 'Engineering', 70000, '2022-01-11', 3),\n",
       " (2, 'Subham', 'Samantray', 'Marketing', 30000, '2024-04-21', 4),\n",
       " (7, 'Subham', 'Samantray', 'Examinations', 35000, '2024-03-20', 5)]"
      ]
     },
     "execution_count": 62,
     "metadata": {},
     "output_type": "execute_result"
    }
   ],
   "source": [
    "%%sql\n",
    "-- sorting by a single column\n",
    "SELECT * FROM employees\n",
    "ORDER BY last_name ASC;"
   ]
  },
  {
   "cell_type": "code",
   "execution_count": 63,
   "metadata": {},
   "outputs": [
    {
     "name": "stdout",
     "output_type": "stream",
     "text": [
      " * sqlite:///sql-methods.db\n",
      "Done.\n"
     ]
    },
    {
     "data": {
      "text/html": [
       "<table>\n",
       "    <thead>\n",
       "        <tr>\n",
       "            <th>employee_id</th>\n",
       "            <th>first_name</th>\n",
       "            <th>last_name</th>\n",
       "            <th>department</th>\n",
       "            <th>salary</th>\n",
       "            <th>hire_date</th>\n",
       "            <th>performance_rating</th>\n",
       "        </tr>\n",
       "    </thead>\n",
       "    <tbody>\n",
       "        <tr>\n",
       "            <td>2</td>\n",
       "            <td>Subham</td>\n",
       "            <td>Samantray</td>\n",
       "            <td>Marketing</td>\n",
       "            <td>30000</td>\n",
       "            <td>2024-04-21</td>\n",
       "            <td>4</td>\n",
       "        </tr>\n",
       "        <tr>\n",
       "            <td>7</td>\n",
       "            <td>Subham</td>\n",
       "            <td>Samantray</td>\n",
       "            <td>Examinations</td>\n",
       "            <td>35000</td>\n",
       "            <td>2024-03-20</td>\n",
       "            <td>5</td>\n",
       "        </tr>\n",
       "        <tr>\n",
       "            <td>3</td>\n",
       "            <td>Aishwarya</td>\n",
       "            <td>Roy</td>\n",
       "            <td>Engineering</td>\n",
       "            <td>70000</td>\n",
       "            <td>2022-01-11</td>\n",
       "            <td>3</td>\n",
       "        </tr>\n",
       "        <tr>\n",
       "            <td>5</td>\n",
       "            <td>Xaviers</td>\n",
       "            <td>Mark</td>\n",
       "            <td>Operations</td>\n",
       "            <td>60000</td>\n",
       "            <td>2021-12-20</td>\n",
       "            <td>2</td>\n",
       "        </tr>\n",
       "        <tr>\n",
       "            <td>1</td>\n",
       "            <td>John</td>\n",
       "            <td>Doe</td>\n",
       "            <td>Sales</td>\n",
       "            <td>50000</td>\n",
       "            <td>2024-04-23</td>\n",
       "            <td>5</td>\n",
       "        </tr>\n",
       "        <tr>\n",
       "            <td>6</td>\n",
       "            <td>John</td>\n",
       "            <td>Doe</td>\n",
       "            <td>Purchase</td>\n",
       "            <td>55000</td>\n",
       "            <td>2024-04-21</td>\n",
       "            <td>5</td>\n",
       "        </tr>\n",
       "        <tr>\n",
       "            <td>4</td>\n",
       "            <td>Martin</td>\n",
       "            <td>Crowe</td>\n",
       "            <td>Operations</td>\n",
       "            <td>40000</td>\n",
       "            <td>2021-02-18</td>\n",
       "            <td>1</td>\n",
       "        </tr>\n",
       "    </tbody>\n",
       "</table>"
      ],
      "text/plain": [
       "[(2, 'Subham', 'Samantray', 'Marketing', 30000, '2024-04-21', 4),\n",
       " (7, 'Subham', 'Samantray', 'Examinations', 35000, '2024-03-20', 5),\n",
       " (3, 'Aishwarya', 'Roy', 'Engineering', 70000, '2022-01-11', 3),\n",
       " (5, 'Xaviers', 'Mark', 'Operations', 60000, '2021-12-20', 2),\n",
       " (1, 'John', 'Doe', 'Sales', 50000, '2024-04-23', 5),\n",
       " (6, 'John', 'Doe', 'Purchase', 55000, '2024-04-21', 5),\n",
       " (4, 'Martin', 'Crowe', 'Operations', 40000, '2021-02-18', 1)]"
      ]
     },
     "execution_count": 63,
     "metadata": {},
     "output_type": "execute_result"
    }
   ],
   "source": [
    "%%sql\n",
    "-- sorting by a single column\n",
    "SELECT * FROM employees\n",
    "ORDER BY last_name DESC;"
   ]
  },
  {
   "cell_type": "code",
   "execution_count": 64,
   "metadata": {},
   "outputs": [
    {
     "name": "stdout",
     "output_type": "stream",
     "text": [
      " * sqlite:///sql-methods.db\n",
      "Done.\n"
     ]
    },
    {
     "data": {
      "text/html": [
       "<table>\n",
       "    <thead>\n",
       "        <tr>\n",
       "            <th>employee_id</th>\n",
       "            <th>first_name</th>\n",
       "            <th>last_name</th>\n",
       "            <th>department</th>\n",
       "            <th>salary</th>\n",
       "            <th>hire_date</th>\n",
       "            <th>performance_rating</th>\n",
       "        </tr>\n",
       "    </thead>\n",
       "    <tbody>\n",
       "        <tr>\n",
       "            <td>3</td>\n",
       "            <td>Aishwarya</td>\n",
       "            <td>Roy</td>\n",
       "            <td>Engineering</td>\n",
       "            <td>70000</td>\n",
       "            <td>2022-01-11</td>\n",
       "            <td>3</td>\n",
       "        </tr>\n",
       "        <tr>\n",
       "            <td>7</td>\n",
       "            <td>Subham</td>\n",
       "            <td>Samantray</td>\n",
       "            <td>Examinations</td>\n",
       "            <td>35000</td>\n",
       "            <td>2024-03-20</td>\n",
       "            <td>5</td>\n",
       "        </tr>\n",
       "        <tr>\n",
       "            <td>2</td>\n",
       "            <td>Subham</td>\n",
       "            <td>Samantray</td>\n",
       "            <td>Marketing</td>\n",
       "            <td>30000</td>\n",
       "            <td>2024-04-21</td>\n",
       "            <td>4</td>\n",
       "        </tr>\n",
       "        <tr>\n",
       "            <td>5</td>\n",
       "            <td>Xaviers</td>\n",
       "            <td>Mark</td>\n",
       "            <td>Operations</td>\n",
       "            <td>60000</td>\n",
       "            <td>2021-12-20</td>\n",
       "            <td>2</td>\n",
       "        </tr>\n",
       "        <tr>\n",
       "            <td>4</td>\n",
       "            <td>Martin</td>\n",
       "            <td>Crowe</td>\n",
       "            <td>Operations</td>\n",
       "            <td>40000</td>\n",
       "            <td>2021-02-18</td>\n",
       "            <td>1</td>\n",
       "        </tr>\n",
       "        <tr>\n",
       "            <td>6</td>\n",
       "            <td>John</td>\n",
       "            <td>Doe</td>\n",
       "            <td>Purchase</td>\n",
       "            <td>55000</td>\n",
       "            <td>2024-04-21</td>\n",
       "            <td>5</td>\n",
       "        </tr>\n",
       "        <tr>\n",
       "            <td>1</td>\n",
       "            <td>John</td>\n",
       "            <td>Doe</td>\n",
       "            <td>Sales</td>\n",
       "            <td>50000</td>\n",
       "            <td>2024-04-23</td>\n",
       "            <td>5</td>\n",
       "        </tr>\n",
       "    </tbody>\n",
       "</table>"
      ],
      "text/plain": [
       "[(3, 'Aishwarya', 'Roy', 'Engineering', 70000, '2022-01-11', 3),\n",
       " (7, 'Subham', 'Samantray', 'Examinations', 35000, '2024-03-20', 5),\n",
       " (2, 'Subham', 'Samantray', 'Marketing', 30000, '2024-04-21', 4),\n",
       " (5, 'Xaviers', 'Mark', 'Operations', 60000, '2021-12-20', 2),\n",
       " (4, 'Martin', 'Crowe', 'Operations', 40000, '2021-02-18', 1),\n",
       " (6, 'John', 'Doe', 'Purchase', 55000, '2024-04-21', 5),\n",
       " (1, 'John', 'Doe', 'Sales', 50000, '2024-04-23', 5)]"
      ]
     },
     "execution_count": 64,
     "metadata": {},
     "output_type": "execute_result"
    }
   ],
   "source": [
    "%%sql\n",
    "-- sorting multiple columns\n",
    "SELECT * FROM employees\n",
    "ORDER BY department ASC, salary DESC;\n"
   ]
  },
  {
   "cell_type": "code",
   "execution_count": 65,
   "metadata": {},
   "outputs": [
    {
     "name": "stdout",
     "output_type": "stream",
     "text": [
      " * sqlite:///sql-methods.db\n",
      "Done.\n"
     ]
    },
    {
     "data": {
      "text/html": [
       "<table>\n",
       "    <thead>\n",
       "        <tr>\n",
       "            <th>employee_id</th>\n",
       "            <th>first_name</th>\n",
       "            <th>last_name</th>\n",
       "            <th>department</th>\n",
       "            <th>salary</th>\n",
       "            <th>hire_date</th>\n",
       "            <th>performance_rating</th>\n",
       "        </tr>\n",
       "    </thead>\n",
       "    <tbody>\n",
       "        <tr>\n",
       "            <td>3</td>\n",
       "            <td>Aishwarya</td>\n",
       "            <td>Roy</td>\n",
       "            <td>Engineering</td>\n",
       "            <td>70000</td>\n",
       "            <td>2022-01-11</td>\n",
       "            <td>3</td>\n",
       "        </tr>\n",
       "        <tr>\n",
       "            <td>7</td>\n",
       "            <td>Subham</td>\n",
       "            <td>Samantray</td>\n",
       "            <td>Examinations</td>\n",
       "            <td>35000</td>\n",
       "            <td>2024-03-20</td>\n",
       "            <td>5</td>\n",
       "        </tr>\n",
       "        <tr>\n",
       "            <td>2</td>\n",
       "            <td>Subham</td>\n",
       "            <td>Samantray</td>\n",
       "            <td>Marketing</td>\n",
       "            <td>30000</td>\n",
       "            <td>2024-04-21</td>\n",
       "            <td>4</td>\n",
       "        </tr>\n",
       "        <tr>\n",
       "            <td>4</td>\n",
       "            <td>Martin</td>\n",
       "            <td>Crowe</td>\n",
       "            <td>Operations</td>\n",
       "            <td>40000</td>\n",
       "            <td>2021-02-18</td>\n",
       "            <td>1</td>\n",
       "        </tr>\n",
       "        <tr>\n",
       "            <td>5</td>\n",
       "            <td>Xaviers</td>\n",
       "            <td>Mark</td>\n",
       "            <td>Operations</td>\n",
       "            <td>60000</td>\n",
       "            <td>2021-12-20</td>\n",
       "            <td>2</td>\n",
       "        </tr>\n",
       "        <tr>\n",
       "            <td>6</td>\n",
       "            <td>John</td>\n",
       "            <td>Doe</td>\n",
       "            <td>Purchase</td>\n",
       "            <td>55000</td>\n",
       "            <td>2024-04-21</td>\n",
       "            <td>5</td>\n",
       "        </tr>\n",
       "        <tr>\n",
       "            <td>1</td>\n",
       "            <td>John</td>\n",
       "            <td>Doe</td>\n",
       "            <td>Sales</td>\n",
       "            <td>50000</td>\n",
       "            <td>2024-04-23</td>\n",
       "            <td>5</td>\n",
       "        </tr>\n",
       "    </tbody>\n",
       "</table>"
      ],
      "text/plain": [
       "[(3, 'Aishwarya', 'Roy', 'Engineering', 70000, '2022-01-11', 3),\n",
       " (7, 'Subham', 'Samantray', 'Examinations', 35000, '2024-03-20', 5),\n",
       " (2, 'Subham', 'Samantray', 'Marketing', 30000, '2024-04-21', 4),\n",
       " (4, 'Martin', 'Crowe', 'Operations', 40000, '2021-02-18', 1),\n",
       " (5, 'Xaviers', 'Mark', 'Operations', 60000, '2021-12-20', 2),\n",
       " (6, 'John', 'Doe', 'Purchase', 55000, '2024-04-21', 5),\n",
       " (1, 'John', 'Doe', 'Sales', 50000, '2024-04-23', 5)]"
      ]
     },
     "execution_count": 65,
     "metadata": {},
     "output_type": "execute_result"
    }
   ],
   "source": [
    "%%sql\n",
    "-- sorting multiple columns\n",
    "SELECT * FROM employees\n",
    "ORDER BY department ASC, salary ASC;\n"
   ]
  },
  {
   "cell_type": "code",
   "execution_count": 66,
   "metadata": {},
   "outputs": [
    {
     "name": "stdout",
     "output_type": "stream",
     "text": [
      " * sqlite:///sql-methods.db\n",
      "Done.\n"
     ]
    },
    {
     "data": {
      "text/html": [
       "<table>\n",
       "    <thead>\n",
       "        <tr>\n",
       "            <th>employee_id</th>\n",
       "            <th>first_name</th>\n",
       "            <th>last_name</th>\n",
       "            <th>department</th>\n",
       "            <th>salary</th>\n",
       "            <th>hire_date</th>\n",
       "            <th>performance_rating</th>\n",
       "        </tr>\n",
       "    </thead>\n",
       "    <tbody>\n",
       "        <tr>\n",
       "            <td>3</td>\n",
       "            <td>Aishwarya</td>\n",
       "            <td>Roy</td>\n",
       "            <td>Engineering</td>\n",
       "            <td>70000</td>\n",
       "            <td>2022-01-11</td>\n",
       "            <td>3</td>\n",
       "        </tr>\n",
       "        <tr>\n",
       "            <td>5</td>\n",
       "            <td>Xaviers</td>\n",
       "            <td>Mark</td>\n",
       "            <td>Operations</td>\n",
       "            <td>60000</td>\n",
       "            <td>2021-12-20</td>\n",
       "            <td>2</td>\n",
       "        </tr>\n",
       "        <tr>\n",
       "            <td>4</td>\n",
       "            <td>Martin</td>\n",
       "            <td>Crowe</td>\n",
       "            <td>Operations</td>\n",
       "            <td>40000</td>\n",
       "            <td>2021-02-18</td>\n",
       "            <td>1</td>\n",
       "        </tr>\n",
       "        <tr>\n",
       "            <td>6</td>\n",
       "            <td>John</td>\n",
       "            <td>Doe</td>\n",
       "            <td>Purchase</td>\n",
       "            <td>55000</td>\n",
       "            <td>2024-04-21</td>\n",
       "            <td>5</td>\n",
       "        </tr>\n",
       "        <tr>\n",
       "            <td>1</td>\n",
       "            <td>John</td>\n",
       "            <td>Doe</td>\n",
       "            <td>Sales</td>\n",
       "            <td>50000</td>\n",
       "            <td>2024-04-23</td>\n",
       "            <td>5</td>\n",
       "        </tr>\n",
       "        <tr>\n",
       "            <td>7</td>\n",
       "            <td>Subham</td>\n",
       "            <td>Samantray</td>\n",
       "            <td>Examinations</td>\n",
       "            <td>35000</td>\n",
       "            <td>2024-03-20</td>\n",
       "            <td>5</td>\n",
       "        </tr>\n",
       "        <tr>\n",
       "            <td>2</td>\n",
       "            <td>Subham</td>\n",
       "            <td>Samantray</td>\n",
       "            <td>Marketing</td>\n",
       "            <td>30000</td>\n",
       "            <td>2024-04-21</td>\n",
       "            <td>4</td>\n",
       "        </tr>\n",
       "    </tbody>\n",
       "</table>"
      ],
      "text/plain": [
       "[(3, 'Aishwarya', 'Roy', 'Engineering', 70000, '2022-01-11', 3),\n",
       " (5, 'Xaviers', 'Mark', 'Operations', 60000, '2021-12-20', 2),\n",
       " (4, 'Martin', 'Crowe', 'Operations', 40000, '2021-02-18', 1),\n",
       " (6, 'John', 'Doe', 'Purchase', 55000, '2024-04-21', 5),\n",
       " (1, 'John', 'Doe', 'Sales', 50000, '2024-04-23', 5),\n",
       " (7, 'Subham', 'Samantray', 'Examinations', 35000, '2024-03-20', 5),\n",
       " (2, 'Subham', 'Samantray', 'Marketing', 30000, '2024-04-21', 4)]"
      ]
     },
     "execution_count": 66,
     "metadata": {},
     "output_type": "execute_result"
    }
   ],
   "source": [
    "%%sql\n",
    "-- sorting by expression\n",
    "SELECT * FROM employees\n",
    "ORDER BY performance_rating >3 ASC, salary DESC;"
   ]
  },
  {
   "cell_type": "markdown",
   "metadata": {},
   "source": [
    "# GROUP BY\n",
    "The **GROUP BY** clause is used to organize and summarize data by grouping rows with the same values in one or more columns. This helps you analyze trends, patterns, and aggregate statistics within your data.\n",
    "> **Common Aggregate Functions Used with GROUP BY:**\n",
    "```\n",
    "  COUNT(): Counts the number of rows in each group.\n",
    "  SUM(): Calculates the sum of a numeric column for each group.\n",
    "  AVG(): Calculates the average of a numeric column for each group.\n",
    "  MAX(): Returns the maximum value of a column for each group.\n",
    "  MIN(): Returns the minimum value of a column for each group.\n",
    "```"
   ]
  },
  {
   "cell_type": "code",
   "execution_count": 69,
   "metadata": {},
   "outputs": [
    {
     "name": "stdout",
     "output_type": "stream",
     "text": [
      " * sqlite:///sql-methods.db\n",
      "Done.\n"
     ]
    },
    {
     "data": {
      "text/html": [
       "<table>\n",
       "    <thead>\n",
       "        <tr>\n",
       "            <th>employee_id</th>\n",
       "            <th>first_name</th>\n",
       "            <th>last_name</th>\n",
       "            <th>department</th>\n",
       "            <th>salary</th>\n",
       "            <th>hire_date</th>\n",
       "            <th>performance_rating</th>\n",
       "        </tr>\n",
       "    </thead>\n",
       "    <tbody>\n",
       "        <tr>\n",
       "            <td>1</td>\n",
       "            <td>John</td>\n",
       "            <td>Doe</td>\n",
       "            <td>Sales</td>\n",
       "            <td>50000</td>\n",
       "            <td>2024-04-23</td>\n",
       "            <td>5</td>\n",
       "        </tr>\n",
       "        <tr>\n",
       "            <td>2</td>\n",
       "            <td>Subham</td>\n",
       "            <td>Samantray</td>\n",
       "            <td>Marketing</td>\n",
       "            <td>30000</td>\n",
       "            <td>2024-04-21</td>\n",
       "            <td>4</td>\n",
       "        </tr>\n",
       "        <tr>\n",
       "            <td>3</td>\n",
       "            <td>Aishwarya</td>\n",
       "            <td>Roy</td>\n",
       "            <td>Engineering</td>\n",
       "            <td>70000</td>\n",
       "            <td>2022-01-11</td>\n",
       "            <td>3</td>\n",
       "        </tr>\n",
       "        <tr>\n",
       "            <td>4</td>\n",
       "            <td>Martin</td>\n",
       "            <td>Crowe</td>\n",
       "            <td>Operations</td>\n",
       "            <td>40000</td>\n",
       "            <td>2021-02-18</td>\n",
       "            <td>1</td>\n",
       "        </tr>\n",
       "        <tr>\n",
       "            <td>5</td>\n",
       "            <td>Xaviers</td>\n",
       "            <td>Mark</td>\n",
       "            <td>Operations</td>\n",
       "            <td>60000</td>\n",
       "            <td>2021-12-20</td>\n",
       "            <td>2</td>\n",
       "        </tr>\n",
       "        <tr>\n",
       "            <td>6</td>\n",
       "            <td>John</td>\n",
       "            <td>Doe</td>\n",
       "            <td>Purchase</td>\n",
       "            <td>55000</td>\n",
       "            <td>2024-04-21</td>\n",
       "            <td>5</td>\n",
       "        </tr>\n",
       "        <tr>\n",
       "            <td>7</td>\n",
       "            <td>Subham</td>\n",
       "            <td>Samantray</td>\n",
       "            <td>Examinations</td>\n",
       "            <td>35000</td>\n",
       "            <td>2024-03-20</td>\n",
       "            <td>5</td>\n",
       "        </tr>\n",
       "    </tbody>\n",
       "</table>"
      ],
      "text/plain": [
       "[(1, 'John', 'Doe', 'Sales', 50000, '2024-04-23', 5),\n",
       " (2, 'Subham', 'Samantray', 'Marketing', 30000, '2024-04-21', 4),\n",
       " (3, 'Aishwarya', 'Roy', 'Engineering', 70000, '2022-01-11', 3),\n",
       " (4, 'Martin', 'Crowe', 'Operations', 40000, '2021-02-18', 1),\n",
       " (5, 'Xaviers', 'Mark', 'Operations', 60000, '2021-12-20', 2),\n",
       " (6, 'John', 'Doe', 'Purchase', 55000, '2024-04-21', 5),\n",
       " (7, 'Subham', 'Samantray', 'Examinations', 35000, '2024-03-20', 5)]"
      ]
     },
     "execution_count": 69,
     "metadata": {},
     "output_type": "execute_result"
    }
   ],
   "source": [
    "%sql SELECT * FROM employees;"
   ]
  },
  {
   "cell_type": "code",
   "execution_count": 71,
   "metadata": {},
   "outputs": [
    {
     "name": "stdout",
     "output_type": "stream",
     "text": [
      " * sqlite:///sql-methods.db\n",
      "Done.\n"
     ]
    },
    {
     "data": {
      "text/html": [
       "<table>\n",
       "    <thead>\n",
       "        <tr>\n",
       "            <th>department</th>\n",
       "            <th>employee_count</th>\n",
       "        </tr>\n",
       "    </thead>\n",
       "    <tbody>\n",
       "        <tr>\n",
       "            <td>Engineering</td>\n",
       "            <td>1</td>\n",
       "        </tr>\n",
       "        <tr>\n",
       "            <td>Examinations</td>\n",
       "            <td>1</td>\n",
       "        </tr>\n",
       "        <tr>\n",
       "            <td>Marketing</td>\n",
       "            <td>1</td>\n",
       "        </tr>\n",
       "        <tr>\n",
       "            <td>Operations</td>\n",
       "            <td>2</td>\n",
       "        </tr>\n",
       "        <tr>\n",
       "            <td>Purchase</td>\n",
       "            <td>1</td>\n",
       "        </tr>\n",
       "        <tr>\n",
       "            <td>Sales</td>\n",
       "            <td>1</td>\n",
       "        </tr>\n",
       "    </tbody>\n",
       "</table>"
      ],
      "text/plain": [
       "[('Engineering', 1),\n",
       " ('Examinations', 1),\n",
       " ('Marketing', 1),\n",
       " ('Operations', 2),\n",
       " ('Purchase', 1),\n",
       " ('Sales', 1)]"
      ]
     },
     "execution_count": 71,
     "metadata": {},
     "output_type": "execute_result"
    }
   ],
   "source": [
    "%%sql\n",
    "--Grouping with COUNT()\n",
    "SELECT department, COUNT(*) AS employee_count\n",
    "FROM employees\n",
    "GROUP BY department;"
   ]
  },
  {
   "cell_type": "code",
   "execution_count": 72,
   "metadata": {},
   "outputs": [
    {
     "name": "stdout",
     "output_type": "stream",
     "text": [
      " * sqlite:///sql-methods.db\n",
      "Done.\n"
     ]
    },
    {
     "data": {
      "text/html": [
       "<table>\n",
       "    <thead>\n",
       "        <tr>\n",
       "            <th>department</th>\n",
       "            <th>total_salary</th>\n",
       "        </tr>\n",
       "    </thead>\n",
       "    <tbody>\n",
       "        <tr>\n",
       "            <td>Engineering</td>\n",
       "            <td>70000</td>\n",
       "        </tr>\n",
       "        <tr>\n",
       "            <td>Examinations</td>\n",
       "            <td>35000</td>\n",
       "        </tr>\n",
       "        <tr>\n",
       "            <td>Marketing</td>\n",
       "            <td>30000</td>\n",
       "        </tr>\n",
       "        <tr>\n",
       "            <td>Operations</td>\n",
       "            <td>100000</td>\n",
       "        </tr>\n",
       "        <tr>\n",
       "            <td>Purchase</td>\n",
       "            <td>55000</td>\n",
       "        </tr>\n",
       "        <tr>\n",
       "            <td>Sales</td>\n",
       "            <td>50000</td>\n",
       "        </tr>\n",
       "    </tbody>\n",
       "</table>"
      ],
      "text/plain": [
       "[('Engineering', 70000),\n",
       " ('Examinations', 35000),\n",
       " ('Marketing', 30000),\n",
       " ('Operations', 100000),\n",
       " ('Purchase', 55000),\n",
       " ('Sales', 50000)]"
      ]
     },
     "execution_count": 72,
     "metadata": {},
     "output_type": "execute_result"
    }
   ],
   "source": [
    "%%sql\n",
    "--Grouping with SUM()\n",
    "SELECT department, SUM(salary) AS total_salary\n",
    "FROM employees\n",
    "GROUP BY department;"
   ]
  },
  {
   "cell_type": "code",
   "execution_count": 73,
   "metadata": {},
   "outputs": [
    {
     "name": "stdout",
     "output_type": "stream",
     "text": [
      " * sqlite:///sql-methods.db\n",
      "Done.\n"
     ]
    },
    {
     "data": {
      "text/html": [
       "<table>\n",
       "    <thead>\n",
       "        <tr>\n",
       "            <th>department</th>\n",
       "            <th>average_salary</th>\n",
       "        </tr>\n",
       "    </thead>\n",
       "    <tbody>\n",
       "        <tr>\n",
       "            <td>Engineering</td>\n",
       "            <td>70000.0</td>\n",
       "        </tr>\n",
       "        <tr>\n",
       "            <td>Examinations</td>\n",
       "            <td>35000.0</td>\n",
       "        </tr>\n",
       "        <tr>\n",
       "            <td>Marketing</td>\n",
       "            <td>30000.0</td>\n",
       "        </tr>\n",
       "        <tr>\n",
       "            <td>Operations</td>\n",
       "            <td>50000.0</td>\n",
       "        </tr>\n",
       "        <tr>\n",
       "            <td>Purchase</td>\n",
       "            <td>55000.0</td>\n",
       "        </tr>\n",
       "        <tr>\n",
       "            <td>Sales</td>\n",
       "            <td>50000.0</td>\n",
       "        </tr>\n",
       "    </tbody>\n",
       "</table>"
      ],
      "text/plain": [
       "[('Engineering', 70000.0),\n",
       " ('Examinations', 35000.0),\n",
       " ('Marketing', 30000.0),\n",
       " ('Operations', 50000.0),\n",
       " ('Purchase', 55000.0),\n",
       " ('Sales', 50000.0)]"
      ]
     },
     "execution_count": 73,
     "metadata": {},
     "output_type": "execute_result"
    }
   ],
   "source": [
    "%%sql\n",
    "--Grouping with AVG()\n",
    "SELECT department, AVG(salary) AS average_salary\n",
    "FROM employees\n",
    "GROUP BY department;"
   ]
  },
  {
   "cell_type": "code",
   "execution_count": 74,
   "metadata": {},
   "outputs": [
    {
     "name": "stdout",
     "output_type": "stream",
     "text": [
      " * sqlite:///sql-methods.db\n",
      "Done.\n"
     ]
    },
    {
     "data": {
      "text/html": [
       "<table>\n",
       "    <thead>\n",
       "        <tr>\n",
       "            <th>department</th>\n",
       "            <th>maximum_salary</th>\n",
       "        </tr>\n",
       "    </thead>\n",
       "    <tbody>\n",
       "        <tr>\n",
       "            <td>Engineering</td>\n",
       "            <td>70000</td>\n",
       "        </tr>\n",
       "        <tr>\n",
       "            <td>Examinations</td>\n",
       "            <td>35000</td>\n",
       "        </tr>\n",
       "        <tr>\n",
       "            <td>Marketing</td>\n",
       "            <td>30000</td>\n",
       "        </tr>\n",
       "        <tr>\n",
       "            <td>Operations</td>\n",
       "            <td>60000</td>\n",
       "        </tr>\n",
       "        <tr>\n",
       "            <td>Purchase</td>\n",
       "            <td>55000</td>\n",
       "        </tr>\n",
       "        <tr>\n",
       "            <td>Sales</td>\n",
       "            <td>50000</td>\n",
       "        </tr>\n",
       "    </tbody>\n",
       "</table>"
      ],
      "text/plain": [
       "[('Engineering', 70000),\n",
       " ('Examinations', 35000),\n",
       " ('Marketing', 30000),\n",
       " ('Operations', 60000),\n",
       " ('Purchase', 55000),\n",
       " ('Sales', 50000)]"
      ]
     },
     "execution_count": 74,
     "metadata": {},
     "output_type": "execute_result"
    }
   ],
   "source": [
    "%%sql\n",
    "--Grouping with MAX() and MIN()\n",
    "SELECT department, MAX(salary) AS maximum_salary\n",
    "FROM employees\n",
    "GROUP BY department;"
   ]
  },
  {
   "cell_type": "code",
   "execution_count": 77,
   "metadata": {},
   "outputs": [
    {
     "name": "stdout",
     "output_type": "stream",
     "text": [
      " * sqlite:///sql-methods.db\n",
      "Done.\n"
     ]
    },
    {
     "data": {
      "text/html": [
       "<table>\n",
       "    <thead>\n",
       "        <tr>\n",
       "            <th>department</th>\n",
       "            <th>minimum_salary</th>\n",
       "        </tr>\n",
       "    </thead>\n",
       "    <tbody>\n",
       "        <tr>\n",
       "            <td>Engineering</td>\n",
       "            <td>70000</td>\n",
       "        </tr>\n",
       "        <tr>\n",
       "            <td>Examinations</td>\n",
       "            <td>35000</td>\n",
       "        </tr>\n",
       "        <tr>\n",
       "            <td>Marketing</td>\n",
       "            <td>30000</td>\n",
       "        </tr>\n",
       "        <tr>\n",
       "            <td>Operations</td>\n",
       "            <td>40000</td>\n",
       "        </tr>\n",
       "        <tr>\n",
       "            <td>Purchase</td>\n",
       "            <td>55000</td>\n",
       "        </tr>\n",
       "        <tr>\n",
       "            <td>Sales</td>\n",
       "            <td>50000</td>\n",
       "        </tr>\n",
       "    </tbody>\n",
       "</table>"
      ],
      "text/plain": [
       "[('Engineering', 70000),\n",
       " ('Examinations', 35000),\n",
       " ('Marketing', 30000),\n",
       " ('Operations', 40000),\n",
       " ('Purchase', 55000),\n",
       " ('Sales', 50000)]"
      ]
     },
     "execution_count": 77,
     "metadata": {},
     "output_type": "execute_result"
    }
   ],
   "source": [
    "%%sql\n",
    "--Grouping with MAX() and MIN()\n",
    "SELECT department, MIn(salary) AS minimum_salary\n",
    "FROM employees\n",
    "GROUP BY department;"
   ]
  }
 ],
 "metadata": {
  "kernelspec": {
   "display_name": "Python 3.11.7 64-bit ('3.11.7')",
   "language": "python",
   "name": "python3"
  },
  "language_info": {
   "codemirror_mode": {
    "name": "ipython",
    "version": 3
   },
   "file_extension": ".py",
   "mimetype": "text/x-python",
   "name": "python",
   "nbconvert_exporter": "python",
   "pygments_lexer": "ipython3",
   "version": "3.11.7"
  },
  "orig_nbformat": 4,
  "vscode": {
   "interpreter": {
    "hash": "6e3fbc30514b608ca39a215636f48b0591a2f0bcb35e4d8b7bed3476b3ceda04"
   }
  }
 },
 "nbformat": 4,
 "nbformat_minor": 2
}
